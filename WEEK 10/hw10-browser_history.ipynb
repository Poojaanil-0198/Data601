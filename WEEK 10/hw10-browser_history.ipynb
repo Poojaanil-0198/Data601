{
 "cells": [
  {
   "cell_type": "code",
   "execution_count": 1,
   "id": "fd5ece7d",
   "metadata": {},
   "outputs": [],
   "source": [
    "# watch this: https://www.youtube.com/watch?v=iFTWM7HV2UI\n",
    "# your cleaned data after you complete this analysis: \n",
    "# upload to: https://docs.google.com/forms/d/e/1FAIpQLScVuy4aSiSSpLfUOxbmutWtcUidfkzPDc-C0J2gy6Y8TXqeHQ/viewform\n",
    "\n",
    "import pandas as pd\n",
    "\n",
    "import matplotlib\n",
    "import matplotlib.pyplot as plt"
   ]
  },
  {
   "cell_type": "code",
   "execution_count": 3,
   "id": "c307715d",
   "metadata": {},
   "outputs": [
    {
     "data": {
      "text/plain": [
       "(6774, 2)"
      ]
     },
     "execution_count": 3,
     "metadata": {},
     "output_type": "execute_result"
    }
   ],
   "source": [
    "df = pd.read_csv('2.csv')\n",
    "df.shape"
   ]
  },
  {
   "cell_type": "code",
   "execution_count": 4,
   "id": "8c2d6a00",
   "metadata": {},
   "outputs": [
    {
     "data": {
      "text/html": [
       "<div>\n",
       "<style scoped>\n",
       "    .dataframe tbody tr th:only-of-type {\n",
       "        vertical-align: middle;\n",
       "    }\n",
       "\n",
       "    .dataframe tbody tr th {\n",
       "        vertical-align: top;\n",
       "    }\n",
       "\n",
       "    .dataframe thead th {\n",
       "        text-align: right;\n",
       "    }\n",
       "</style>\n",
       "<table border=\"1\" class=\"dataframe\">\n",
       "  <thead>\n",
       "    <tr style=\"text-align: right;\">\n",
       "      <th></th>\n",
       "      <th>Time</th>\n",
       "      <th>domain</th>\n",
       "    </tr>\n",
       "  </thead>\n",
       "  <tbody>\n",
       "    <tr>\n",
       "      <th>0</th>\n",
       "      <td>2022-01-20 18:01:40</td>\n",
       "      <td>www.google.com</td>\n",
       "    </tr>\n",
       "    <tr>\n",
       "      <th>1</th>\n",
       "      <td>2022-01-20 18:01:55</td>\n",
       "      <td>mail.google.com</td>\n",
       "    </tr>\n",
       "    <tr>\n",
       "      <th>2</th>\n",
       "      <td>2022-01-20 18:01:59</td>\n",
       "      <td>umbc.webex.com</td>\n",
       "    </tr>\n",
       "    <tr>\n",
       "      <th>3</th>\n",
       "      <td>2022-01-20 18:02:26</td>\n",
       "      <td>umbc.webex.com</td>\n",
       "    </tr>\n",
       "    <tr>\n",
       "      <th>4</th>\n",
       "      <td>2022-01-20 19:21:53</td>\n",
       "      <td>umbc.webex.com</td>\n",
       "    </tr>\n",
       "  </tbody>\n",
       "</table>\n",
       "</div>"
      ],
      "text/plain": [
       "                  Time           domain\n",
       "0  2022-01-20 18:01:40   www.google.com\n",
       "1  2022-01-20 18:01:55  mail.google.com\n",
       "2  2022-01-20 18:01:59   umbc.webex.com\n",
       "3  2022-01-20 18:02:26   umbc.webex.com\n",
       "4  2022-01-20 19:21:53   umbc.webex.com"
      ]
     },
     "execution_count": 4,
     "metadata": {},
     "output_type": "execute_result"
    }
   ],
   "source": [
    "df.head()"
   ]
  },
  {
   "cell_type": "code",
   "execution_count": 5,
   "id": "52a7cb35",
   "metadata": {},
   "outputs": [
    {
     "data": {
      "text/html": [
       "<div>\n",
       "<style scoped>\n",
       "    .dataframe tbody tr th:only-of-type {\n",
       "        vertical-align: middle;\n",
       "    }\n",
       "\n",
       "    .dataframe tbody tr th {\n",
       "        vertical-align: top;\n",
       "    }\n",
       "\n",
       "    .dataframe thead th {\n",
       "        text-align: right;\n",
       "    }\n",
       "</style>\n",
       "<table border=\"1\" class=\"dataframe\">\n",
       "  <thead>\n",
       "    <tr style=\"text-align: right;\">\n",
       "      <th></th>\n",
       "      <th>Time</th>\n",
       "      <th>domain</th>\n",
       "    </tr>\n",
       "  </thead>\n",
       "  <tbody>\n",
       "    <tr>\n",
       "      <th>6769</th>\n",
       "      <td>2022-04-18 14:38:15</td>\n",
       "      <td>manivannan-ai.medium.com</td>\n",
       "    </tr>\n",
       "    <tr>\n",
       "      <th>6770</th>\n",
       "      <td>2022-04-18 14:38:16</td>\n",
       "      <td>my.umbc.edu</td>\n",
       "    </tr>\n",
       "    <tr>\n",
       "      <th>6771</th>\n",
       "      <td>2022-04-18 14:38:18</td>\n",
       "      <td>mail.google.com</td>\n",
       "    </tr>\n",
       "    <tr>\n",
       "      <th>6772</th>\n",
       "      <td>2022-04-18 14:38:21</td>\n",
       "      <td>www.google.com</td>\n",
       "    </tr>\n",
       "    <tr>\n",
       "      <th>6773</th>\n",
       "      <td>2022-04-18 14:38:29</td>\n",
       "      <td>browser-history.readthedocs.io</td>\n",
       "    </tr>\n",
       "  </tbody>\n",
       "</table>\n",
       "</div>"
      ],
      "text/plain": [
       "                     Time                          domain\n",
       "6769  2022-04-18 14:38:15        manivannan-ai.medium.com\n",
       "6770  2022-04-18 14:38:16                     my.umbc.edu\n",
       "6771  2022-04-18 14:38:18                 mail.google.com\n",
       "6772  2022-04-18 14:38:21                  www.google.com\n",
       "6773  2022-04-18 14:38:29  browser-history.readthedocs.io"
      ]
     },
     "execution_count": 5,
     "metadata": {},
     "output_type": "execute_result"
    }
   ],
   "source": [
    "df.tail()"
   ]
  },
  {
   "cell_type": "code",
   "execution_count": 6,
   "id": "5d8fe945",
   "metadata": {},
   "outputs": [
    {
     "data": {
      "text/plain": [
       "Time      0\n",
       "domain    0\n",
       "dtype: int64"
      ]
     },
     "execution_count": 6,
     "metadata": {},
     "output_type": "execute_result"
    }
   ],
   "source": [
    "df.isna().sum()"
   ]
  },
  {
   "cell_type": "code",
   "execution_count": 8,
   "id": "3b17c3ad",
   "metadata": {},
   "outputs": [],
   "source": [
    "df.dropna( inplace=True)"
   ]
  },
  {
   "cell_type": "code",
   "execution_count": 9,
   "id": "40a1ea46",
   "metadata": {},
   "outputs": [
    {
     "data": {
      "text/plain": [
       "0"
      ]
     },
     "execution_count": 9,
     "metadata": {},
     "output_type": "execute_result"
    }
   ],
   "source": [
    "# time column is string and string date is starting with YYYY, so I can do string compares\n",
    "sum(df['Time'] < '1900') "
   ]
  },
  {
   "cell_type": "code",
   "execution_count": 11,
   "id": "68fce3e6",
   "metadata": {},
   "outputs": [],
   "source": [
    "# I filter and get a copy, so I will not work on a slice, this will be a new dataframe. (essentially losing 1900 data points)\n",
    "df = df[df.Time > '1900'].copy() "
   ]
  },
  {
   "cell_type": "code",
   "execution_count": 13,
   "id": "91adc39c",
   "metadata": {},
   "outputs": [],
   "source": [
    "df['Time'] = pd.to_datetime(df['Time'])"
   ]
  },
  {
   "cell_type": "code",
   "execution_count": 15,
   "id": "dde12efb",
   "metadata": {},
   "outputs": [
    {
     "data": {
      "text/plain": [
       "Time      datetime64[ns]\n",
       "domain            object\n",
       "dtype: object"
      ]
     },
     "execution_count": 15,
     "metadata": {},
     "output_type": "execute_result"
    }
   ],
   "source": [
    "df.dtypes"
   ]
  },
  {
   "cell_type": "code",
   "execution_count": 17,
   "id": "85921f65",
   "metadata": {},
   "outputs": [
    {
     "data": {
      "text/html": [
       "<div>\n",
       "<style scoped>\n",
       "    .dataframe tbody tr th:only-of-type {\n",
       "        vertical-align: middle;\n",
       "    }\n",
       "\n",
       "    .dataframe tbody tr th {\n",
       "        vertical-align: top;\n",
       "    }\n",
       "\n",
       "    .dataframe thead th {\n",
       "        text-align: right;\n",
       "    }\n",
       "</style>\n",
       "<table border=\"1\" class=\"dataframe\">\n",
       "  <thead>\n",
       "    <tr style=\"text-align: right;\">\n",
       "      <th></th>\n",
       "      <th>Time</th>\n",
       "      <th>domain</th>\n",
       "    </tr>\n",
       "  </thead>\n",
       "  <tbody>\n",
       "    <tr>\n",
       "      <th>0</th>\n",
       "      <td>2022-01-20 18:01:40</td>\n",
       "      <td>www.google.com</td>\n",
       "    </tr>\n",
       "    <tr>\n",
       "      <th>1</th>\n",
       "      <td>2022-01-20 18:01:55</td>\n",
       "      <td>mail.google.com</td>\n",
       "    </tr>\n",
       "    <tr>\n",
       "      <th>2</th>\n",
       "      <td>2022-01-20 18:01:59</td>\n",
       "      <td>umbc.webex.com</td>\n",
       "    </tr>\n",
       "    <tr>\n",
       "      <th>3</th>\n",
       "      <td>2022-01-20 18:02:26</td>\n",
       "      <td>umbc.webex.com</td>\n",
       "    </tr>\n",
       "    <tr>\n",
       "      <th>4</th>\n",
       "      <td>2022-01-20 19:21:53</td>\n",
       "      <td>umbc.webex.com</td>\n",
       "    </tr>\n",
       "  </tbody>\n",
       "</table>\n",
       "</div>"
      ],
      "text/plain": [
       "                 Time           domain\n",
       "0 2022-01-20 18:01:40   www.google.com\n",
       "1 2022-01-20 18:01:55  mail.google.com\n",
       "2 2022-01-20 18:01:59   umbc.webex.com\n",
       "3 2022-01-20 18:02:26   umbc.webex.com\n",
       "4 2022-01-20 19:21:53   umbc.webex.com"
      ]
     },
     "execution_count": 17,
     "metadata": {},
     "output_type": "execute_result"
    }
   ],
   "source": [
    "df.head()"
   ]
  },
  {
   "cell_type": "code",
   "execution_count": 19,
   "id": "e7604988",
   "metadata": {},
   "outputs": [
    {
     "data": {
      "text/plain": [
       "www.google.com                          1774\n",
       "github.com                              1056\n",
       "colab.research.google.com                668\n",
       "webauth.umbc.edu                         667\n",
       "blackboard.umbc.edu                      288\n",
       "umbc-csm.symplicity.com                  263\n",
       "my.umbc.edu                              215\n",
       "localhost:8888                           136\n",
       "www.w3schools.com                        124\n",
       "myretrievercare.umbc.edu                 118\n",
       "my3.my.umbc.edu                          105\n",
       "csprd-web.ps.umbc.edu                     69\n",
       "meet181.webex.com                         59\n",
       "datasetsearch.research.google.com         55\n",
       "umbc.app.box.com                          54\n",
       "umbc.webex.com                            46\n",
       "s3.amazonaws.com                          44\n",
       "stackoverflow.com                         41\n",
       "accounts.google.com                       37\n",
       "www.pdbmbook.com                          36\n",
       "faker.readthedocs.io                      31\n",
       "catalog.data.gov                          30\n",
       "campuscard-selfservice.umbc.edu           29\n",
       "docs.microsoft.com                        26\n",
       "www.geeksforgeeks.org                     26\n",
       "dil.umbc.edu                              22\n",
       "data.world                                21\n",
       "mail.google.com                           18\n",
       "sbs.umbc.edu                              18\n",
       "gradschool.umbc.edu                       17\n",
       "www.statista.com                          16\n",
       "101g-xnet.sfdph.org:8443                  16\n",
       "www.youtube.com                           15\n",
       "www.linkedin.com                          14\n",
       "plotly.com                                12\n",
       "www.worldbank.org                         12\n",
       "registrar.umbc.edu                        12\n",
       "www.csee.umbc.edu                         11\n",
       "library.umbc.edu                          11\n",
       "www.cms.gov                               10\n",
       "lucid.app                                 10\n",
       "ehservices.publichealth.lacounty.gov      10\n",
       "careers.umbc.edu                          10\n",
       "quizlet.com                               10\n",
       "docs.google.com                           10\n",
       "www.sfdph.org                              9\n",
       "data.ed.gov                                9\n",
       "data.mendeley.com                          9\n",
       "towardsdatascience.com                     9\n",
       "sso.services.box.net                       8\n",
       "Name: domain, dtype: int64"
      ]
     },
     "execution_count": 19,
     "metadata": {},
     "output_type": "execute_result"
    }
   ],
   "source": [
    "df['domain'].value_counts()[:50]"
   ]
  },
  {
   "cell_type": "code",
   "execution_count": 21,
   "id": "9554e1fc",
   "metadata": {},
   "outputs": [
    {
     "data": {
      "text/plain": [
       "<AxesSubplot:>"
      ]
     },
     "execution_count": 21,
     "metadata": {},
     "output_type": "execute_result"
    },
    {
     "data": {
      "image/png": "[encoded data removed]",
      "text/plain": [
       "<Figure size 432x288 with 1 Axes>"
      ]
     },
     "metadata": {
      "needs_background": "light"
     },
     "output_type": "display_data"
    }
   ],
   "source": [
    "# top 10 sites that I visisted\n",
    "df['domain'].value_counts()[1:11].plot(kind='bar')"
   ]
  },
  {
   "cell_type": "code",
   "execution_count": 23,
   "id": "06b27828",
   "metadata": {},
   "outputs": [
    {
     "data": {
      "text/plain": [
       "Time\n",
       "0     389\n",
       "1      62\n",
       "2      31\n",
       "3      46\n",
       "4      55\n",
       "5      46\n",
       "9      52\n",
       "10    175\n",
       "11    128\n",
       "12    233\n",
       "13    366\n",
       "14    353\n",
       "15    568\n",
       "16    463\n",
       "17    474\n",
       "18    300\n",
       "19    768\n",
       "20    683\n",
       "21    598\n",
       "22    505\n",
       "23    479\n",
       "Name: domain, dtype: int64"
      ]
     },
     "execution_count": 23,
     "metadata": {},
     "output_type": "execute_result"
    }
   ],
   "source": [
    "hourly_counts = df.groupby(df.Time.dt.hour).domain.size()\n",
    "hourly_counts"
   ]
  },
  {
   "cell_type": "code",
   "execution_count": 25,
   "id": "5d8ced73",
   "metadata": {},
   "outputs": [
    {
     "data": {
      "text/plain": [
       "<AxesSubplot:xlabel='Time'>"
      ]
     },
     "execution_count": 25,
     "metadata": {},
     "output_type": "execute_result"
    },
    {
     "data": {
      "image/png": "[encoded data removed]",
      "text/plain": [
       "<Figure size 432x288 with 1 Axes>"
      ]
     },
     "metadata": {
      "needs_background": "light"
     },
     "output_type": "display_data"
    }
   ],
   "source": [
    "hourly_counts.plot.bar()"
   ]
  },
  {
   "cell_type": "code",
   "execution_count": 27,
   "id": "48416278",
   "metadata": {},
   "outputs": [
    {
     "data": {
      "text/html": [
       "<div>\n",
       "<style scoped>\n",
       "    .dataframe tbody tr th:only-of-type {\n",
       "        vertical-align: middle;\n",
       "    }\n",
       "\n",
       "    .dataframe tbody tr th {\n",
       "        vertical-align: top;\n",
       "    }\n",
       "\n",
       "    .dataframe thead th {\n",
       "        text-align: right;\n",
       "    }\n",
       "</style>\n",
       "<table border=\"1\" class=\"dataframe\">\n",
       "  <thead>\n",
       "    <tr style=\"text-align: right;\">\n",
       "      <th></th>\n",
       "      <th>Time</th>\n",
       "      <th>domain</th>\n",
       "      <th>Day</th>\n",
       "      <th>DayIndex</th>\n",
       "    </tr>\n",
       "  </thead>\n",
       "  <tbody>\n",
       "    <tr>\n",
       "      <th>0</th>\n",
       "      <td>2022-01-20 18:01:40</td>\n",
       "      <td>www.google.com</td>\n",
       "      <td>Thursday</td>\n",
       "      <td>3</td>\n",
       "    </tr>\n",
       "    <tr>\n",
       "      <th>1</th>\n",
       "      <td>2022-01-20 18:01:55</td>\n",
       "      <td>mail.google.com</td>\n",
       "      <td>Thursday</td>\n",
       "      <td>3</td>\n",
       "    </tr>\n",
       "    <tr>\n",
       "      <th>2</th>\n",
       "      <td>2022-01-20 18:01:59</td>\n",
       "      <td>umbc.webex.com</td>\n",
       "      <td>Thursday</td>\n",
       "      <td>3</td>\n",
       "    </tr>\n",
       "    <tr>\n",
       "      <th>3</th>\n",
       "      <td>2022-01-20 18:02:26</td>\n",
       "      <td>umbc.webex.com</td>\n",
       "      <td>Thursday</td>\n",
       "      <td>3</td>\n",
       "    </tr>\n",
       "    <tr>\n",
       "      <th>4</th>\n",
       "      <td>2022-01-20 19:21:53</td>\n",
       "      <td>umbc.webex.com</td>\n",
       "      <td>Thursday</td>\n",
       "      <td>3</td>\n",
       "    </tr>\n",
       "  </tbody>\n",
       "</table>\n",
       "</div>"
      ],
      "text/plain": [
       "                 Time           domain       Day  DayIndex\n",
       "0 2022-01-20 18:01:40   www.google.com  Thursday         3\n",
       "1 2022-01-20 18:01:55  mail.google.com  Thursday         3\n",
       "2 2022-01-20 18:01:59   umbc.webex.com  Thursday         3\n",
       "3 2022-01-20 18:02:26   umbc.webex.com  Thursday         3\n",
       "4 2022-01-20 19:21:53   umbc.webex.com  Thursday         3"
      ]
     },
     "execution_count": 27,
     "metadata": {},
     "output_type": "execute_result"
    }
   ],
   "source": [
    "df['Day'] = [ d.day_name() for d in df['Time']]\n",
    "df['DayIndex'] = [ d.dayofweek for d in df['Time']]\n",
    "df.head()"
   ]
  },
  {
   "cell_type": "code",
   "execution_count": 29,
   "id": "dc29e46f",
   "metadata": {},
   "outputs": [
    {
     "data": {
      "text/plain": [
       "Tuesday      2353\n",
       "Monday       1489\n",
       "Thursday      918\n",
       "Friday        723\n",
       "Wednesday     567\n",
       "Saturday      484\n",
       "Sunday        240\n",
       "Name: Day, dtype: int64"
      ]
     },
     "execution_count": 29,
     "metadata": {},
     "output_type": "execute_result"
    }
   ],
   "source": [
    "df['Day'].value_counts()"
   ]
  },
  {
   "cell_type": "code",
   "execution_count": 31,
   "id": "25e3831e",
   "metadata": {},
   "outputs": [
    {
     "data": {
      "text/plain": [
       "0    1489\n",
       "1    2353\n",
       "2     567\n",
       "3     918\n",
       "4     723\n",
       "5     484\n",
       "6     240\n",
       "Name: DayIndex, dtype: int64"
      ]
     },
     "execution_count": 31,
     "metadata": {},
     "output_type": "execute_result"
    }
   ],
   "source": [
    "days_sorted = df['DayIndex'].value_counts().sort_index()\n",
    "days_sorted"
   ]
  },
  {
   "cell_type": "code",
   "execution_count": 33,
   "id": "a6434290",
   "metadata": {},
   "outputs": [
    {
     "data": {
      "image/png": "[encoded data removed]",
      "text/plain": [
       "<Figure size 432x288 with 1 Axes>"
      ]
     },
     "metadata": {
      "needs_background": "light"
     },
     "output_type": "display_data"
    }
   ],
   "source": [
    "days_sorted.plot.bar()\n",
    "plt.xticks(days_sorted.index, ['M', 'T', 'W','Th', 'F', 'Sa', 'Su'], rotation=0)\n",
    "\n",
    "plt.show()"
   ]
  },
  {
   "cell_type": "code",
   "execution_count": 35,
   "id": "a026cba6",
   "metadata": {},
   "outputs": [],
   "source": [
    "#most used domains on wednesdays\n",
    "list = df.loc[df['Day'] == 'Wednesday', 'domain']\n",
    "#list.value_counts()[:10]"
   ]
  },
  {
   "cell_type": "code",
   "execution_count": 36,
   "id": "992bce50",
   "metadata": {},
   "outputs": [
    {
     "data": {
      "text/plain": [
       "<AxesSubplot:>"
      ]
     },
     "execution_count": 36,
     "metadata": {},
     "output_type": "execute_result"
    },
    {
     "data": {
      "image/png": "[encoded data removed]",
      "text/plain": [
       "<Figure size 432x288 with 1 Axes>"
      ]
     },
     "metadata": {
      "needs_background": "light"
     },
     "output_type": "display_data"
    }
   ],
   "source": [
    "list = list.value_counts()[0:5]\n",
    "list.plot.bar()"
   ]
  },
  {
   "cell_type": "code",
   "execution_count": 37,
   "id": "46cb75e8",
   "metadata": {},
   "outputs": [
    {
     "data": {
      "text/html": [
       "<div>\n",
       "<style scoped>\n",
       "    .dataframe tbody tr th:only-of-type {\n",
       "        vertical-align: middle;\n",
       "    }\n",
       "\n",
       "    .dataframe tbody tr th {\n",
       "        vertical-align: top;\n",
       "    }\n",
       "\n",
       "    .dataframe thead th {\n",
       "        text-align: right;\n",
       "    }\n",
       "</style>\n",
       "<table border=\"1\" class=\"dataframe\">\n",
       "  <thead>\n",
       "    <tr style=\"text-align: right;\">\n",
       "      <th></th>\n",
       "      <th>Time</th>\n",
       "      <th>domain</th>\n",
       "      <th>Day</th>\n",
       "      <th>DayIndex</th>\n",
       "      <th>isWeekend</th>\n",
       "    </tr>\n",
       "  </thead>\n",
       "  <tbody>\n",
       "    <tr>\n",
       "      <th>0</th>\n",
       "      <td>2022-01-20 18:01:40</td>\n",
       "      <td>www.google.com</td>\n",
       "      <td>Thursday</td>\n",
       "      <td>3</td>\n",
       "      <td>False</td>\n",
       "    </tr>\n",
       "    <tr>\n",
       "      <th>1</th>\n",
       "      <td>2022-01-20 18:01:55</td>\n",
       "      <td>mail.google.com</td>\n",
       "      <td>Thursday</td>\n",
       "      <td>3</td>\n",
       "      <td>False</td>\n",
       "    </tr>\n",
       "    <tr>\n",
       "      <th>2</th>\n",
       "      <td>2022-01-20 18:01:59</td>\n",
       "      <td>umbc.webex.com</td>\n",
       "      <td>Thursday</td>\n",
       "      <td>3</td>\n",
       "      <td>False</td>\n",
       "    </tr>\n",
       "    <tr>\n",
       "      <th>3</th>\n",
       "      <td>2022-01-20 18:02:26</td>\n",
       "      <td>umbc.webex.com</td>\n",
       "      <td>Thursday</td>\n",
       "      <td>3</td>\n",
       "      <td>False</td>\n",
       "    </tr>\n",
       "    <tr>\n",
       "      <th>4</th>\n",
       "      <td>2022-01-20 19:21:53</td>\n",
       "      <td>umbc.webex.com</td>\n",
       "      <td>Thursday</td>\n",
       "      <td>3</td>\n",
       "      <td>False</td>\n",
       "    </tr>\n",
       "  </tbody>\n",
       "</table>\n",
       "</div>"
      ],
      "text/plain": [
       "                 Time           domain       Day  DayIndex  isWeekend\n",
       "0 2022-01-20 18:01:40   www.google.com  Thursday         3      False\n",
       "1 2022-01-20 18:01:55  mail.google.com  Thursday         3      False\n",
       "2 2022-01-20 18:01:59   umbc.webex.com  Thursday         3      False\n",
       "3 2022-01-20 18:02:26   umbc.webex.com  Thursday         3      False\n",
       "4 2022-01-20 19:21:53   umbc.webex.com  Thursday         3      False"
      ]
     },
     "execution_count": 37,
     "metadata": {},
     "output_type": "execute_result"
    }
   ],
   "source": [
    "def is_weekend(day): \n",
    "    return day in ['Saturday', 'Sunday']\n",
    "\n",
    "\n",
    "df['isWeekend'] = [ is_weekend(i) for i in df['Day']]\n",
    "df.head()"
   ]
  },
  {
   "cell_type": "code",
   "execution_count": 39,
   "id": "5c123dab",
   "metadata": {},
   "outputs": [],
   "source": [
    "weekend = df[ df['isWeekend'] == True ]\n",
    "\n",
    "weekday = df[ df['isWeekend'] == False ]"
   ]
  },
  {
   "cell_type": "code",
   "execution_count": 40,
   "id": "32dfab6e",
   "metadata": {},
   "outputs": [
    {
     "data": {
      "text/html": [
       "<div>\n",
       "<style scoped>\n",
       "    .dataframe tbody tr th:only-of-type {\n",
       "        vertical-align: middle;\n",
       "    }\n",
       "\n",
       "    .dataframe tbody tr th {\n",
       "        vertical-align: top;\n",
       "    }\n",
       "\n",
       "    .dataframe thead th {\n",
       "        text-align: right;\n",
       "    }\n",
       "</style>\n",
       "<table border=\"1\" class=\"dataframe\">\n",
       "  <thead>\n",
       "    <tr style=\"text-align: right;\">\n",
       "      <th></th>\n",
       "      <th>Time</th>\n",
       "      <th>domain</th>\n",
       "      <th>Day</th>\n",
       "      <th>DayIndex</th>\n",
       "      <th>isWeekend</th>\n",
       "    </tr>\n",
       "  </thead>\n",
       "  <tbody>\n",
       "    <tr>\n",
       "      <th>1006</th>\n",
       "      <td>2022-02-12 09:14:21</td>\n",
       "      <td>blackboard.umbc.edu</td>\n",
       "      <td>Saturday</td>\n",
       "      <td>5</td>\n",
       "      <td>True</td>\n",
       "    </tr>\n",
       "    <tr>\n",
       "      <th>1497</th>\n",
       "      <td>2022-02-19 00:04:48</td>\n",
       "      <td>colab.research.google.com</td>\n",
       "      <td>Saturday</td>\n",
       "      <td>5</td>\n",
       "      <td>True</td>\n",
       "    </tr>\n",
       "    <tr>\n",
       "      <th>1498</th>\n",
       "      <td>2022-02-19 00:06:24</td>\n",
       "      <td>my.umbc.edu</td>\n",
       "      <td>Saturday</td>\n",
       "      <td>5</td>\n",
       "      <td>True</td>\n",
       "    </tr>\n",
       "    <tr>\n",
       "      <th>1499</th>\n",
       "      <td>2022-02-19 00:06:29</td>\n",
       "      <td>my.umbc.edu</td>\n",
       "      <td>Saturday</td>\n",
       "      <td>5</td>\n",
       "      <td>True</td>\n",
       "    </tr>\n",
       "    <tr>\n",
       "      <th>1500</th>\n",
       "      <td>2022-02-19 00:06:35</td>\n",
       "      <td>webauth.umbc.edu</td>\n",
       "      <td>Saturday</td>\n",
       "      <td>5</td>\n",
       "      <td>True</td>\n",
       "    </tr>\n",
       "  </tbody>\n",
       "</table>\n",
       "</div>"
      ],
      "text/plain": [
       "                    Time                     domain       Day  DayIndex  \\\n",
       "1006 2022-02-12 09:14:21        blackboard.umbc.edu  Saturday         5   \n",
       "1497 2022-02-19 00:04:48  colab.research.google.com  Saturday         5   \n",
       "1498 2022-02-19 00:06:24                my.umbc.edu  Saturday         5   \n",
       "1499 2022-02-19 00:06:29                my.umbc.edu  Saturday         5   \n",
       "1500 2022-02-19 00:06:35           webauth.umbc.edu  Saturday         5   \n",
       "\n",
       "      isWeekend  \n",
       "1006       True  \n",
       "1497       True  \n",
       "1498       True  \n",
       "1499       True  \n",
       "1500       True  "
      ]
     },
     "execution_count": 40,
     "metadata": {},
     "output_type": "execute_result"
    }
   ],
   "source": [
    "weekend.head()"
   ]
  },
  {
   "cell_type": "code",
   "execution_count": 41,
   "id": "6e5d12aa",
   "metadata": {},
   "outputs": [
    {
     "data": {
      "text/plain": [
       "www.google.com               1653\n",
       "github.com                    769\n",
       "webauth.umbc.edu              597\n",
       "colab.research.google.com     568\n",
       "umbc-csm.symplicity.com       256\n",
       "Name: domain, dtype: int64"
      ]
     },
     "execution_count": 41,
     "metadata": {},
     "output_type": "execute_result"
    }
   ],
   "source": [
    "weekday['domain'].value_counts()[:5]"
   ]
  },
  {
   "cell_type": "code",
   "execution_count": 42,
   "id": "1d6c292f",
   "metadata": {},
   "outputs": [
    {
     "data": {
      "text/plain": [
       "github.com                   287\n",
       "www.google.com               121\n",
       "colab.research.google.com    100\n",
       "webauth.umbc.edu              70\n",
       "blackboard.umbc.edu           45\n",
       "Name: domain, dtype: int64"
      ]
     },
     "execution_count": 42,
     "metadata": {},
     "output_type": "execute_result"
    }
   ],
   "source": [
    "weekend['domain'].value_counts()[:5]"
   ]
  },
  {
   "cell_type": "code",
   "execution_count": 43,
   "id": "beb367d6",
   "metadata": {},
   "outputs": [
    {
     "data": {
      "image/png": "[encoded data removed]",
      "text/plain": [
       "<Figure size 432x288 with 1 Axes>"
      ]
     },
     "metadata": {
      "needs_background": "light"
     },
     "output_type": "display_data"
    }
   ],
   "source": [
    "def show_stats(df, color, alpha=1):\n",
    "    hourly_counts = df.groupby(df.Time.dt.hour).domain.size()\n",
    "    \n",
    "    # fill in the missing hours\n",
    "    for h in range(24):\n",
    "        if h not in hourly_counts:\n",
    "            hourly_counts[h]=0 # I initially didn't do this and hours were not lining up\n",
    "            \n",
    "    hourly_counts.sort_index().plot.bar(color=color, alpha=alpha)\n",
    "    plt.ylim([0, 250])\n",
    "\n",
    "    \n",
    "show_stats(weekend, 'red', 1)\n",
    "    \n",
    "show_stats(weekday, 'blue', 0.5)"
   ]
  },
  {
   "cell_type": "code",
   "execution_count": 44,
   "id": "f913bf31",
   "metadata": {},
   "outputs": [],
   "source": [
    "# be skeptical about your data!\n",
    "# am I on computer a lot more on the weekdays \n",
    "# or it shows more simply becasue there are more weekdays "
   ]
  },
  {
   "cell_type": "code",
   "execution_count": 45,
   "id": "b55e0994",
   "metadata": {},
   "outputs": [
    {
     "data": {
      "image/png": "[encoded data removed]",
      "text/plain": [
       "<Figure size 432x288 with 1 Axes>"
      ]
     },
     "metadata": {
      "needs_background": "light"
     },
     "output_type": "display_data"
    },
    {
     "data": {
      "image/png": "[encoded data removed]",
      "text/plain": [
       "<Figure size 432x288 with 1 Axes>"
      ]
     },
     "metadata": {
      "needs_background": "light"
     },
     "output_type": "display_data"
    }
   ],
   "source": [
    "def show_stats(df, color, alpha=1, title='', y_lim = None):\n",
    "    hourly_counts = df.groupby(df.Time.dt.hour).domain.size()\n",
    "    \n",
    "    days_counts = df.Time.dt.date.nunique()\n",
    "    \n",
    "    # fill in the missing hours\n",
    "    for h in range(24):\n",
    "        if h not in hourly_counts:\n",
    "            hourly_counts[h]=0 # I initially didn't do this and hours were not lining up\n",
    "        else: \n",
    "            hourly_counts[h] = hourly_counts[h] * 100.0 /  days_counts # I multiplied by 100.0 to make it float and also not to loose decimals\n",
    "            \n",
    "    hourly_counts.sort_index().plot.bar(color=color, alpha=alpha, title=title)\n",
    "    \n",
    "    if y_lim != None:\n",
    "        plt.ylim(y_lim)\n",
    "    plt.show()\n",
    "\n",
    "\n",
    "    \n",
    "y_lim=[0, 500]\n",
    "show_stats(weekend, 'red', 1, 'Weekend', y_lim=y_lim)\n",
    "    \n",
    "show_stats(weekday, 'blue', 0.5, 'Weekday', y_lim=y_lim)"
   ]
  },
  {
   "cell_type": "code",
   "execution_count": 46,
   "id": "58794963",
   "metadata": {},
   "outputs": [
    {
     "data": {
      "text/plain": [
       "www.google.com                          1774\n",
       "github.com                              1056\n",
       "colab.research.google.com                668\n",
       "webauth.umbc.edu                         667\n",
       "blackboard.umbc.edu                      288\n",
       "umbc-csm.symplicity.com                  263\n",
       "my.umbc.edu                              215\n",
       "localhost:8888                           136\n",
       "www.w3schools.com                        124\n",
       "myretrievercare.umbc.edu                 118\n",
       "my3.my.umbc.edu                          105\n",
       "csprd-web.ps.umbc.edu                     69\n",
       "meet181.webex.com                         59\n",
       "datasetsearch.research.google.com         55\n",
       "umbc.app.box.com                          54\n",
       "umbc.webex.com                            46\n",
       "s3.amazonaws.com                          44\n",
       "stackoverflow.com                         41\n",
       "accounts.google.com                       37\n",
       "www.pdbmbook.com                          36\n",
       "faker.readthedocs.io                      31\n",
       "catalog.data.gov                          30\n",
       "campuscard-selfservice.umbc.edu           29\n",
       "docs.microsoft.com                        26\n",
       "www.geeksforgeeks.org                     26\n",
       "dil.umbc.edu                              22\n",
       "data.world                                21\n",
       "mail.google.com                           18\n",
       "sbs.umbc.edu                              18\n",
       "gradschool.umbc.edu                       17\n",
       "www.statista.com                          16\n",
       "101g-xnet.sfdph.org:8443                  16\n",
       "www.youtube.com                           15\n",
       "www.linkedin.com                          14\n",
       "plotly.com                                12\n",
       "www.worldbank.org                         12\n",
       "registrar.umbc.edu                        12\n",
       "www.csee.umbc.edu                         11\n",
       "library.umbc.edu                          11\n",
       "www.cms.gov                               10\n",
       "lucid.app                                 10\n",
       "ehservices.publichealth.lacounty.gov      10\n",
       "careers.umbc.edu                          10\n",
       "quizlet.com                               10\n",
       "docs.google.com                           10\n",
       "www.sfdph.org                              9\n",
       "data.ed.gov                                9\n",
       "data.mendeley.com                          9\n",
       "towardsdatascience.com                     9\n",
       "sso.services.box.net                       8\n",
       "Name: domain, dtype: int64"
      ]
     },
     "execution_count": 46,
     "metadata": {},
     "output_type": "execute_result"
    }
   ],
   "source": [
    "df['domain'].value_counts()[:50]"
   ]
  },
  {
   "cell_type": "code",
   "execution_count": 47,
   "id": "ddf2657b",
   "metadata": {},
   "outputs": [],
   "source": [
    "df['domain'] = df['domain'].astype(str)"
   ]
  },
  {
   "cell_type": "code",
   "execution_count": 48,
   "id": "7c4e23c2",
   "metadata": {},
   "outputs": [],
   "source": [
    "def get_data_for_domain(val):\n",
    "    return df[ [True if val.lower() in i.lower() else False for i in df['domain'] ]]\n",
    "\n",
    "\n",
    "def show_domain_stats(domain, color='blue', alpha=1):\n",
    "    data = get_data_for_domain(domain)\n",
    "    show_stats(data, color, alpha)\n",
    "    return data"
   ]
  },
  {
   "cell_type": "code",
   "execution_count": 49,
   "id": "08d38944",
   "metadata": {},
   "outputs": [
    {
     "data": {
      "image/png": "[encoded data removed]",
      "text/plain": [
       "<Figure size 432x288 with 1 Axes>"
      ]
     },
     "metadata": {
      "needs_background": "light"
     },
     "output_type": "display_data"
    }
   ],
   "source": [
    "_= show_domain_stats('umbc', 'blue')"
   ]
  },
  {
   "cell_type": "code",
   "execution_count": 50,
   "id": "ebf5e3a7",
   "metadata": {},
   "outputs": [
    {
     "data": {
      "image/png": "[encoded data removed]",
      "text/plain": [
       "<Figure size 432x288 with 1 Axes>"
      ]
     },
     "metadata": {
      "needs_background": "light"
     },
     "output_type": "display_data"
    }
   ],
   "source": [
    "_= show_domain_stats('www.google.com', 'blue')"
   ]
  },
  {
   "cell_type": "code",
   "execution_count": 51,
   "id": "b03e16df",
   "metadata": {},
   "outputs": [
    {
     "data": {
      "image/png": "[encoded data removed]",
      "text/plain": [
       "<Figure size 432x288 with 1 Axes>"
      ]
     },
     "metadata": {
      "needs_background": "light"
     },
     "output_type": "display_data"
    }
   ],
   "source": [
    "_ = show_domain_stats('stackover', 'magenta')"
   ]
  },
  {
   "cell_type": "code",
   "execution_count": 52,
   "id": "618dd3bb",
   "metadata": {},
   "outputs": [
    {
     "data": {
      "image/png": "[encoded data removed]",
      "text/plain": [
       "<Figure size 432x288 with 1 Axes>"
      ]
     },
     "metadata": {
      "needs_background": "light"
     },
     "output_type": "display_data"
    }
   ],
   "source": [
    "_ = show_domain_stats('youtube', 'red')"
   ]
  },
  {
   "cell_type": "code",
   "execution_count": 53,
   "id": "13737d47",
   "metadata": {},
   "outputs": [
    {
     "data": {
      "image/png": "[encoded data removed]",
      "text/plain": [
       "<Figure size 432x288 with 1 Axes>"
      ]
     },
     "metadata": {
      "needs_background": "light"
     },
     "output_type": "display_data"
    }
   ],
   "source": [
    "_=show_domain_stats('blackboard', 'black')"
   ]
  },
  {
   "cell_type": "markdown",
   "id": "2be4d11b",
   "metadata": {},
   "source": [
    "# Based on data, what can we tell about this person?\n",
    "\n",
    "1. Is this a work computer/personal computer?\n",
    "2. Is he employed?\n",
    "3. What is his interests?\n",
    "4. Anything interesting?\n",
    "\n",
    "answer here\n",
    "\n",
    "1. This looks like the users personal computer as the top 10 browsing history shows all the academic websites. This also suggests that the user can be a student. \n",
    "2. The user mostly looks like a student.\n",
    "3. The intrest of the person is mostly academic and specifically technical. \n",
    "4. The person uses this his/her  personal academic laptop. The user is mostly a student and is always looking for technical solution. The user is also looking for a job which is suggested by browsing linkdin and career websites.\n",
    "\n",
    "\n",
    "\n"
   ]
  },
  {
   "cell_type": "code",
   "execution_count": null,
   "id": "12682a5a",
   "metadata": {},
   "outputs": [],
   "source": []
  }
 ],
 "metadata": {
  "kernelspec": {
   "display_name": "Python 3 (ipykernel)",
   "language": "python",
   "name": "python3"
  },
  "language_info": {
   "codemirror_mode": {
    "name": "ipython",
    "version": 3
   },
   "file_extension": ".py",
   "mimetype": "text/x-python",
   "name": "python",
   "nbconvert_exporter": "python",
   "pygments_lexer": "ipython3",
   "version": "3.9.7"
  }
 },
 "nbformat": 4,
 "nbformat_minor": 5
}
