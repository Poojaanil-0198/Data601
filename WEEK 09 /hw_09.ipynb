{
 "cells": [
  {
   "cell_type": "code",
   "execution_count": 2,
   "id": "64d8fbc2",
   "metadata": {},
   "outputs": [],
   "source": [
    "# watch this: https://www.youtube.com/watch?v=iFTWM7HV2UI\n",
    "# your cleaned data after you complete this analysis: \n",
    "# upload to: https://docs.google.com/forms/d/e/1FAIpQLScVuy4aSiSSpLfUOxbmutWtcUidfkzPDc-C0J2gy6Y8TXqeHQ/viewform\n",
    "\n",
    "import pandas as pd\n",
    "\n",
    "import matplotlib\n",
    "import matplotlib.pyplot as plt"
   ]
  },
  {
   "cell_type": "code",
   "execution_count": 3,
   "id": "4d656258",
   "metadata": {},
   "outputs": [
    {
     "data": {
      "text/plain": [
       "(2133, 2)"
      ]
     },
     "execution_count": 3,
     "metadata": {},
     "output_type": "execute_result"
    }
   ],
   "source": [
    "df = pd.read_csv('history_cleaned.csv')\n",
    "df.shape"
   ]
  },
  {
   "cell_type": "code",
   "execution_count": 4,
   "id": "0be7b5f5",
   "metadata": {},
   "outputs": [
    {
     "data": {
      "text/html": [
       "<div>\n",
       "<style scoped>\n",
       "    .dataframe tbody tr th:only-of-type {\n",
       "        vertical-align: middle;\n",
       "    }\n",
       "\n",
       "    .dataframe tbody tr th {\n",
       "        vertical-align: top;\n",
       "    }\n",
       "\n",
       "    .dataframe thead th {\n",
       "        text-align: right;\n",
       "    }\n",
       "</style>\n",
       "<table border=\"1\" class=\"dataframe\">\n",
       "  <thead>\n",
       "    <tr style=\"text-align: right;\">\n",
       "      <th></th>\n",
       "      <th>Time</th>\n",
       "      <th>domain</th>\n",
       "    </tr>\n",
       "  </thead>\n",
       "  <tbody>\n",
       "    <tr>\n",
       "      <th>0</th>\n",
       "      <td>2021-11-08 15:47:18</td>\n",
       "      <td>mail.google.com</td>\n",
       "    </tr>\n",
       "    <tr>\n",
       "      <th>1</th>\n",
       "      <td>2021-11-09 20:01:09</td>\n",
       "      <td>mail.google.com</td>\n",
       "    </tr>\n",
       "    <tr>\n",
       "      <th>2</th>\n",
       "      <td>2021-11-09 20:11:51</td>\n",
       "      <td>mail.google.com</td>\n",
       "    </tr>\n",
       "    <tr>\n",
       "      <th>3</th>\n",
       "      <td>2021-11-09 20:16:16</td>\n",
       "      <td>www.google.com</td>\n",
       "    </tr>\n",
       "    <tr>\n",
       "      <th>4</th>\n",
       "      <td>2021-11-09 20:16:21</td>\n",
       "      <td>www.yesstyle.com</td>\n",
       "    </tr>\n",
       "  </tbody>\n",
       "</table>\n",
       "</div>"
      ],
      "text/plain": [
       "                  Time            domain\n",
       "0  2021-11-08 15:47:18   mail.google.com\n",
       "1  2021-11-09 20:01:09   mail.google.com\n",
       "2  2021-11-09 20:11:51   mail.google.com\n",
       "3  2021-11-09 20:16:16    www.google.com\n",
       "4  2021-11-09 20:16:21  www.yesstyle.com"
      ]
     },
     "execution_count": 4,
     "metadata": {},
     "output_type": "execute_result"
    }
   ],
   "source": [
    "df.head()\n"
   ]
  },
  {
   "cell_type": "code",
   "execution_count": 5,
   "id": "a5f96092",
   "metadata": {},
   "outputs": [
    {
     "data": {
      "text/html": [
       "<div>\n",
       "<style scoped>\n",
       "    .dataframe tbody tr th:only-of-type {\n",
       "        vertical-align: middle;\n",
       "    }\n",
       "\n",
       "    .dataframe tbody tr th {\n",
       "        vertical-align: top;\n",
       "    }\n",
       "\n",
       "    .dataframe thead th {\n",
       "        text-align: right;\n",
       "    }\n",
       "</style>\n",
       "<table border=\"1\" class=\"dataframe\">\n",
       "  <thead>\n",
       "    <tr style=\"text-align: right;\">\n",
       "      <th></th>\n",
       "      <th>Time</th>\n",
       "      <th>domain</th>\n",
       "    </tr>\n",
       "  </thead>\n",
       "  <tbody>\n",
       "    <tr>\n",
       "      <th>2128</th>\n",
       "      <td>2022-04-16 19:47:10</td>\n",
       "      <td>www.google.com</td>\n",
       "    </tr>\n",
       "    <tr>\n",
       "      <th>2129</th>\n",
       "      <td>2022-04-16 19:47:13</td>\n",
       "      <td>www.pinterest.com</td>\n",
       "    </tr>\n",
       "    <tr>\n",
       "      <th>2130</th>\n",
       "      <td>2022-04-16 19:47:24</td>\n",
       "      <td>www.google.com</td>\n",
       "    </tr>\n",
       "    <tr>\n",
       "      <th>2131</th>\n",
       "      <td>2022-04-16 19:47:26</td>\n",
       "      <td>www.pinterest.com</td>\n",
       "    </tr>\n",
       "    <tr>\n",
       "      <th>2132</th>\n",
       "      <td>2022-04-16 19:47:31</td>\n",
       "      <td>accounts.google.com</td>\n",
       "    </tr>\n",
       "  </tbody>\n",
       "</table>\n",
       "</div>"
      ],
      "text/plain": [
       "                     Time               domain\n",
       "2128  2022-04-16 19:47:10       www.google.com\n",
       "2129  2022-04-16 19:47:13    www.pinterest.com\n",
       "2130  2022-04-16 19:47:24       www.google.com\n",
       "2131  2022-04-16 19:47:26    www.pinterest.com\n",
       "2132  2022-04-16 19:47:31  accounts.google.com"
      ]
     },
     "execution_count": 5,
     "metadata": {},
     "output_type": "execute_result"
    }
   ],
   "source": [
    "df.tail()\n"
   ]
  },
  {
   "cell_type": "code",
   "execution_count": 6,
   "id": "3111533e",
   "metadata": {},
   "outputs": [
    {
     "data": {
      "text/plain": [
       "Time      0\n",
       "domain    0\n",
       "dtype: int64"
      ]
     },
     "execution_count": 6,
     "metadata": {},
     "output_type": "execute_result"
    }
   ],
   "source": [
    "df.isna().sum()"
   ]
  },
  {
   "cell_type": "code",
   "execution_count": 7,
   "id": "d0569f06",
   "metadata": {},
   "outputs": [],
   "source": [
    "df.dropna( inplace=True)"
   ]
  },
  {
   "cell_type": "code",
   "execution_count": 8,
   "id": "325f03fc",
   "metadata": {},
   "outputs": [
    {
     "data": {
      "text/plain": [
       "0"
      ]
     },
     "execution_count": 8,
     "metadata": {},
     "output_type": "execute_result"
    }
   ],
   "source": [
    "# time column is string and string date is starting with YYYY, so I can do string compares\n",
    "sum(df['Time'] < '1900') \n"
   ]
  },
  {
   "cell_type": "code",
   "execution_count": 9,
   "id": "6d3d0dfa",
   "metadata": {},
   "outputs": [],
   "source": [
    "# I filter and get a copy, so I will not work on a slice, this will be a new dataframe. (essentially losing 1900 data points)\n",
    "df = df[df.Time > '1900'].copy() "
   ]
  },
  {
   "cell_type": "code",
   "execution_count": 10,
   "id": "69bfb84a",
   "metadata": {},
   "outputs": [],
   "source": [
    "df['Time'] = pd.to_datetime(df['Time'])"
   ]
  },
  {
   "cell_type": "code",
   "execution_count": 11,
   "id": "7cf53467",
   "metadata": {},
   "outputs": [
    {
     "data": {
      "text/plain": [
       "Time      datetime64[ns]\n",
       "domain            object\n",
       "dtype: object"
      ]
     },
     "execution_count": 11,
     "metadata": {},
     "output_type": "execute_result"
    }
   ],
   "source": [
    "df.dtypes"
   ]
  },
  {
   "cell_type": "code",
   "execution_count": 12,
   "id": "7db5d498",
   "metadata": {},
   "outputs": [
    {
     "data": {
      "text/html": [
       "<div>\n",
       "<style scoped>\n",
       "    .dataframe tbody tr th:only-of-type {\n",
       "        vertical-align: middle;\n",
       "    }\n",
       "\n",
       "    .dataframe tbody tr th {\n",
       "        vertical-align: top;\n",
       "    }\n",
       "\n",
       "    .dataframe thead th {\n",
       "        text-align: right;\n",
       "    }\n",
       "</style>\n",
       "<table border=\"1\" class=\"dataframe\">\n",
       "  <thead>\n",
       "    <tr style=\"text-align: right;\">\n",
       "      <th></th>\n",
       "      <th>Time</th>\n",
       "      <th>domain</th>\n",
       "    </tr>\n",
       "  </thead>\n",
       "  <tbody>\n",
       "    <tr>\n",
       "      <th>0</th>\n",
       "      <td>2021-11-08 15:47:18</td>\n",
       "      <td>mail.google.com</td>\n",
       "    </tr>\n",
       "    <tr>\n",
       "      <th>1</th>\n",
       "      <td>2021-11-09 20:01:09</td>\n",
       "      <td>mail.google.com</td>\n",
       "    </tr>\n",
       "    <tr>\n",
       "      <th>2</th>\n",
       "      <td>2021-11-09 20:11:51</td>\n",
       "      <td>mail.google.com</td>\n",
       "    </tr>\n",
       "    <tr>\n",
       "      <th>3</th>\n",
       "      <td>2021-11-09 20:16:16</td>\n",
       "      <td>www.google.com</td>\n",
       "    </tr>\n",
       "    <tr>\n",
       "      <th>4</th>\n",
       "      <td>2021-11-09 20:16:21</td>\n",
       "      <td>www.yesstyle.com</td>\n",
       "    </tr>\n",
       "  </tbody>\n",
       "</table>\n",
       "</div>"
      ],
      "text/plain": [
       "                 Time            domain\n",
       "0 2021-11-08 15:47:18   mail.google.com\n",
       "1 2021-11-09 20:01:09   mail.google.com\n",
       "2 2021-11-09 20:11:51   mail.google.com\n",
       "3 2021-11-09 20:16:16    www.google.com\n",
       "4 2021-11-09 20:16:21  www.yesstyle.com"
      ]
     },
     "execution_count": 12,
     "metadata": {},
     "output_type": "execute_result"
    }
   ],
   "source": [
    "df.head()"
   ]
  },
  {
   "cell_type": "code",
   "execution_count": 13,
   "id": "f980195e",
   "metadata": {},
   "outputs": [
    {
     "data": {
      "text/plain": [
       "www.google.com                    1162\n",
       "webauth.umbc.edu                   101\n",
       "us.shein.com                        94\n",
       "my.umbc.edu                         55\n",
       "csprd-web.ps.umbc.edu               47\n",
       "stackoverflow.com                   37\n",
       "www.geeksforgeeks.org               24\n",
       "www.etsy.com                        20\n",
       "github.com                          19\n",
       "accounts.google.com                 19\n",
       "umbc.webex.com                      19\n",
       "faker.readthedocs.io                17\n",
       "www.farmrio.com                     16\n",
       "login.docker.com                    16\n",
       "www.pdbmbook.com                    15\n",
       "blackboard.umbc.edu                 15\n",
       "www.viki.com                        14\n",
       "adobeid-na1.services.adobe.com      14\n",
       "tesla.avature.net                   13\n",
       "www.chegg.com                       13\n",
       "www.youtube.com                     12\n",
       "mx.gearbest.com                     10\n",
       "www.superdry.com                    10\n",
       "www.scener.com                      10\n",
       "www.tandfonline.com                  9\n",
       "www.apartments.com                   9\n",
       "data.cdc.gov                         8\n",
       "www.walmart.com                      8\n",
       "towardsdatascience.com               7\n",
       "www.nike.com                         7\n",
       "seaborn.pydata.org                   6\n",
       "www.aldoshoes.com                    6\n",
       "mail.google.com                      6\n",
       "www.coach.com                        5\n",
       "boomerangofficefurniture.com         5\n",
       "www.amazon.com                       5\n",
       "www.w3schools.com                    5\n",
       "medium.com                           5\n",
       "www.w3resource.com                   5\n",
       "www.dollartree.com                   5\n",
       "www.jcpenney.com                     4\n",
       "www.delftstack.com                   4\n",
       "faynirdgvcwsa.com                    4\n",
       "matplotlib.org                       4\n",
       "desktop.github.com                   4\n",
       "pandas.pydata.org                    4\n",
       "www.freecodecamp.org                 4\n",
       "notepadplusplusdownload.com          4\n",
       "docs.anaconda.com                    4\n",
       "builtin.com                          4\n",
       "Name: domain, dtype: int64"
      ]
     },
     "execution_count": 13,
     "metadata": {},
     "output_type": "execute_result"
    }
   ],
   "source": [
    "df['domain'].value_counts()[:50]"
   ]
  },
  {
   "cell_type": "markdown",
   "id": "11553fa8",
   "metadata": {},
   "source": [
    "Google has a exceptionally large number, which also means that I am a curious person and likes to google and find out about everything. \n",
    "Due to the high number of google, I would like to not consider it."
   ]
  },
  {
   "cell_type": "code",
   "execution_count": 14,
   "id": "eede433d",
   "metadata": {},
   "outputs": [
    {
     "data": {
      "text/plain": [
       "webauth.umbc.edu                  101\n",
       "us.shein.com                       94\n",
       "my.umbc.edu                        55\n",
       "csprd-web.ps.umbc.edu              47\n",
       "stackoverflow.com                  37\n",
       "www.geeksforgeeks.org              24\n",
       "www.etsy.com                       20\n",
       "github.com                         19\n",
       "accounts.google.com                19\n",
       "umbc.webex.com                     19\n",
       "faker.readthedocs.io               17\n",
       "www.farmrio.com                    16\n",
       "login.docker.com                   16\n",
       "www.pdbmbook.com                   15\n",
       "blackboard.umbc.edu                15\n",
       "www.viki.com                       14\n",
       "adobeid-na1.services.adobe.com     14\n",
       "tesla.avature.net                  13\n",
       "www.chegg.com                      13\n",
       "www.youtube.com                    12\n",
       "mx.gearbest.com                    10\n",
       "www.superdry.com                   10\n",
       "www.scener.com                     10\n",
       "www.tandfonline.com                 9\n",
       "www.apartments.com                  9\n",
       "data.cdc.gov                        8\n",
       "www.walmart.com                     8\n",
       "towardsdatascience.com              7\n",
       "www.nike.com                        7\n",
       "seaborn.pydata.org                  6\n",
       "www.aldoshoes.com                   6\n",
       "mail.google.com                     6\n",
       "www.coach.com                       5\n",
       "boomerangofficefurniture.com        5\n",
       "www.amazon.com                      5\n",
       "www.w3schools.com                   5\n",
       "medium.com                          5\n",
       "www.w3resource.com                  5\n",
       "www.dollartree.com                  5\n",
       "www.jcpenney.com                    4\n",
       "www.delftstack.com                  4\n",
       "faynirdgvcwsa.com                   4\n",
       "matplotlib.org                      4\n",
       "desktop.github.com                  4\n",
       "pandas.pydata.org                   4\n",
       "www.freecodecamp.org                4\n",
       "notepadplusplusdownload.com         4\n",
       "docs.anaconda.com                   4\n",
       "builtin.com                         4\n",
       "Name: domain, dtype: int64"
      ]
     },
     "execution_count": 14,
     "metadata": {},
     "output_type": "execute_result"
    }
   ],
   "source": [
    "df['domain'].value_counts()[1:50]"
   ]
  },
  {
   "cell_type": "code",
   "execution_count": 15,
   "id": "72db0c52",
   "metadata": {},
   "outputs": [
    {
     "data": {
      "text/plain": [
       "<AxesSubplot:>"
      ]
     },
     "execution_count": 15,
     "metadata": {},
     "output_type": "execute_result"
    },
    {
     "data": {
      "image/png": "[encoded data removed]",
      "text/plain": [
       "<Figure size 432x288 with 1 Axes>"
      ]
     },
     "metadata": {
      "needs_background": "light"
     },
     "output_type": "display_data"
    }
   ],
   "source": [
    "# top 10 sites that I visisted\n",
    "df['domain'].value_counts()[1:11].plot(kind='bar')"
   ]
  },
  {
   "cell_type": "code",
   "execution_count": 16,
   "id": "73cb0f0a",
   "metadata": {},
   "outputs": [
    {
     "data": {
      "text/plain": [
       "Time\n",
       "0     107\n",
       "1      82\n",
       "2      54\n",
       "3       4\n",
       "8      19\n",
       "10     42\n",
       "11     59\n",
       "12     84\n",
       "13    105\n",
       "14    173\n",
       "15    119\n",
       "16    200\n",
       "17    198\n",
       "18    115\n",
       "19    143\n",
       "20    239\n",
       "21    198\n",
       "22    108\n",
       "23     84\n",
       "Name: domain, dtype: int64"
      ]
     },
     "execution_count": 16,
     "metadata": {},
     "output_type": "execute_result"
    }
   ],
   "source": [
    "hourly_counts = df.groupby(df.Time.dt.hour).domain.size()\n",
    "hourly_counts"
   ]
  },
  {
   "cell_type": "code",
   "execution_count": 17,
   "id": "c6a42751",
   "metadata": {},
   "outputs": [
    {
     "data": {
      "text/plain": [
       "<AxesSubplot:xlabel='Time'>"
      ]
     },
     "execution_count": 17,
     "metadata": {},
     "output_type": "execute_result"
    },
    {
     "data": {
      "image/png": "[encoded data removed]",
      "text/plain": [
       "<Figure size 432x288 with 1 Axes>"
      ]
     },
     "metadata": {
      "needs_background": "light"
     },
     "output_type": "display_data"
    }
   ],
   "source": [
    "hourly_counts.plot.bar()"
   ]
  },
  {
   "cell_type": "code",
   "execution_count": 18,
   "id": "9f7e82ee",
   "metadata": {},
   "outputs": [
    {
     "data": {
      "text/html": [
       "<div>\n",
       "<style scoped>\n",
       "    .dataframe tbody tr th:only-of-type {\n",
       "        vertical-align: middle;\n",
       "    }\n",
       "\n",
       "    .dataframe tbody tr th {\n",
       "        vertical-align: top;\n",
       "    }\n",
       "\n",
       "    .dataframe thead th {\n",
       "        text-align: right;\n",
       "    }\n",
       "</style>\n",
       "<table border=\"1\" class=\"dataframe\">\n",
       "  <thead>\n",
       "    <tr style=\"text-align: right;\">\n",
       "      <th></th>\n",
       "      <th>Time</th>\n",
       "      <th>domain</th>\n",
       "      <th>Day</th>\n",
       "      <th>DayIndex</th>\n",
       "    </tr>\n",
       "  </thead>\n",
       "  <tbody>\n",
       "    <tr>\n",
       "      <th>0</th>\n",
       "      <td>2021-11-08 15:47:18</td>\n",
       "      <td>mail.google.com</td>\n",
       "      <td>Monday</td>\n",
       "      <td>0</td>\n",
       "    </tr>\n",
       "    <tr>\n",
       "      <th>1</th>\n",
       "      <td>2021-11-09 20:01:09</td>\n",
       "      <td>mail.google.com</td>\n",
       "      <td>Tuesday</td>\n",
       "      <td>1</td>\n",
       "    </tr>\n",
       "    <tr>\n",
       "      <th>2</th>\n",
       "      <td>2021-11-09 20:11:51</td>\n",
       "      <td>mail.google.com</td>\n",
       "      <td>Tuesday</td>\n",
       "      <td>1</td>\n",
       "    </tr>\n",
       "    <tr>\n",
       "      <th>3</th>\n",
       "      <td>2021-11-09 20:16:16</td>\n",
       "      <td>www.google.com</td>\n",
       "      <td>Tuesday</td>\n",
       "      <td>1</td>\n",
       "    </tr>\n",
       "    <tr>\n",
       "      <th>4</th>\n",
       "      <td>2021-11-09 20:16:21</td>\n",
       "      <td>www.yesstyle.com</td>\n",
       "      <td>Tuesday</td>\n",
       "      <td>1</td>\n",
       "    </tr>\n",
       "  </tbody>\n",
       "</table>\n",
       "</div>"
      ],
      "text/plain": [
       "                 Time            domain      Day  DayIndex\n",
       "0 2021-11-08 15:47:18   mail.google.com   Monday         0\n",
       "1 2021-11-09 20:01:09   mail.google.com  Tuesday         1\n",
       "2 2021-11-09 20:11:51   mail.google.com  Tuesday         1\n",
       "3 2021-11-09 20:16:16    www.google.com  Tuesday         1\n",
       "4 2021-11-09 20:16:21  www.yesstyle.com  Tuesday         1"
      ]
     },
     "execution_count": 18,
     "metadata": {},
     "output_type": "execute_result"
    }
   ],
   "source": [
    "df['Day'] = [ d.day_name() for d in df['Time']]\n",
    "df['DayIndex'] = [ d.dayofweek for d in df['Time']]\n",
    "df.head()"
   ]
  },
  {
   "cell_type": "code",
   "execution_count": 19,
   "id": "4e05e6a0",
   "metadata": {},
   "outputs": [
    {
     "data": {
      "text/plain": [
       "Wednesday    422\n",
       "Saturday     389\n",
       "Monday       376\n",
       "Sunday       302\n",
       "Thursday     249\n",
       "Tuesday      245\n",
       "Friday       150\n",
       "Name: Day, dtype: int64"
      ]
     },
     "execution_count": 19,
     "metadata": {},
     "output_type": "execute_result"
    }
   ],
   "source": [
    "df['Day'].value_counts()"
   ]
  },
  {
   "cell_type": "code",
   "execution_count": 20,
   "id": "f2b10c3a",
   "metadata": {},
   "outputs": [
    {
     "data": {
      "text/plain": [
       "0    376\n",
       "1    245\n",
       "2    422\n",
       "3    249\n",
       "4    150\n",
       "5    389\n",
       "6    302\n",
       "Name: DayIndex, dtype: int64"
      ]
     },
     "execution_count": 20,
     "metadata": {},
     "output_type": "execute_result"
    }
   ],
   "source": [
    "days_sorted = df['DayIndex'].value_counts().sort_index()\n",
    "days_sorted"
   ]
  },
  {
   "cell_type": "code",
   "execution_count": 21,
   "id": "d45363bb",
   "metadata": {},
   "outputs": [
    {
     "data": {
      "image/png": "[encoded data removed]",
      "text/plain": [
       "<Figure size 432x288 with 1 Axes>"
      ]
     },
     "metadata": {
      "needs_background": "light"
     },
     "output_type": "display_data"
    }
   ],
   "source": [
    "days_sorted.plot.bar()\n",
    "plt.xticks(days_sorted.index, ['M', 'T', 'W','Th', 'F', 'Sa', 'Su'], rotation=0)\n",
    "\n",
    "plt.show()"
   ]
  },
  {
   "cell_type": "code",
   "execution_count": 22,
   "id": "b19844dc",
   "metadata": {},
   "outputs": [],
   "source": [
    "#most used domains on wednesdays\n",
    "list = df.loc[df['Day'] == 'Wednesday', 'domain']\n",
    "#list.value_counts()[:10]"
   ]
  },
  {
   "cell_type": "code",
   "execution_count": 23,
   "id": "74ca376a",
   "metadata": {},
   "outputs": [
    {
     "data": {
      "text/plain": [
       "<AxesSubplot:>"
      ]
     },
     "execution_count": 23,
     "metadata": {},
     "output_type": "execute_result"
    },
    {
     "data": {
      "image/png": "[encoded data removed]",
      "text/plain": [
       "<Figure size 432x288 with 1 Axes>"
      ]
     },
     "metadata": {
      "needs_background": "light"
     },
     "output_type": "display_data"
    }
   ],
   "source": [
    "list = list.value_counts()[0:5]\n",
    "list.plot.bar()"
   ]
  },
  {
   "cell_type": "code",
   "execution_count": 24,
   "id": "0f5158a1",
   "metadata": {},
   "outputs": [
    {
     "data": {
      "text/html": [
       "<div>\n",
       "<style scoped>\n",
       "    .dataframe tbody tr th:only-of-type {\n",
       "        vertical-align: middle;\n",
       "    }\n",
       "\n",
       "    .dataframe tbody tr th {\n",
       "        vertical-align: top;\n",
       "    }\n",
       "\n",
       "    .dataframe thead th {\n",
       "        text-align: right;\n",
       "    }\n",
       "</style>\n",
       "<table border=\"1\" class=\"dataframe\">\n",
       "  <thead>\n",
       "    <tr style=\"text-align: right;\">\n",
       "      <th></th>\n",
       "      <th>Time</th>\n",
       "      <th>domain</th>\n",
       "      <th>Day</th>\n",
       "      <th>DayIndex</th>\n",
       "      <th>isWeekend</th>\n",
       "    </tr>\n",
       "  </thead>\n",
       "  <tbody>\n",
       "    <tr>\n",
       "      <th>0</th>\n",
       "      <td>2021-11-08 15:47:18</td>\n",
       "      <td>mail.google.com</td>\n",
       "      <td>Monday</td>\n",
       "      <td>0</td>\n",
       "      <td>False</td>\n",
       "    </tr>\n",
       "    <tr>\n",
       "      <th>1</th>\n",
       "      <td>2021-11-09 20:01:09</td>\n",
       "      <td>mail.google.com</td>\n",
       "      <td>Tuesday</td>\n",
       "      <td>1</td>\n",
       "      <td>False</td>\n",
       "    </tr>\n",
       "    <tr>\n",
       "      <th>2</th>\n",
       "      <td>2021-11-09 20:11:51</td>\n",
       "      <td>mail.google.com</td>\n",
       "      <td>Tuesday</td>\n",
       "      <td>1</td>\n",
       "      <td>False</td>\n",
       "    </tr>\n",
       "    <tr>\n",
       "      <th>3</th>\n",
       "      <td>2021-11-09 20:16:16</td>\n",
       "      <td>www.google.com</td>\n",
       "      <td>Tuesday</td>\n",
       "      <td>1</td>\n",
       "      <td>False</td>\n",
       "    </tr>\n",
       "    <tr>\n",
       "      <th>4</th>\n",
       "      <td>2021-11-09 20:16:21</td>\n",
       "      <td>www.yesstyle.com</td>\n",
       "      <td>Tuesday</td>\n",
       "      <td>1</td>\n",
       "      <td>False</td>\n",
       "    </tr>\n",
       "  </tbody>\n",
       "</table>\n",
       "</div>"
      ],
      "text/plain": [
       "                 Time            domain      Day  DayIndex  isWeekend\n",
       "0 2021-11-08 15:47:18   mail.google.com   Monday         0      False\n",
       "1 2021-11-09 20:01:09   mail.google.com  Tuesday         1      False\n",
       "2 2021-11-09 20:11:51   mail.google.com  Tuesday         1      False\n",
       "3 2021-11-09 20:16:16    www.google.com  Tuesday         1      False\n",
       "4 2021-11-09 20:16:21  www.yesstyle.com  Tuesday         1      False"
      ]
     },
     "execution_count": 24,
     "metadata": {},
     "output_type": "execute_result"
    }
   ],
   "source": [
    "def is_weekend(day): \n",
    "    return day in ['Saturday', 'Sunday']\n",
    "\n",
    "\n",
    "df['isWeekend'] = [ is_weekend(i) for i in df['Day']]\n",
    "df.head()\n",
    "\n"
   ]
  },
  {
   "cell_type": "code",
   "execution_count": 25,
   "id": "3290e9ea",
   "metadata": {},
   "outputs": [],
   "source": [
    "weekend = df[ df['isWeekend'] == True ]\n",
    "\n",
    "weekday = df[ df['isWeekend'] == False ]"
   ]
  },
  {
   "cell_type": "code",
   "execution_count": 26,
   "id": "46143ffd",
   "metadata": {},
   "outputs": [
    {
     "data": {
      "text/html": [
       "<div>\n",
       "<style scoped>\n",
       "    .dataframe tbody tr th:only-of-type {\n",
       "        vertical-align: middle;\n",
       "    }\n",
       "\n",
       "    .dataframe tbody tr th {\n",
       "        vertical-align: top;\n",
       "    }\n",
       "\n",
       "    .dataframe thead th {\n",
       "        text-align: right;\n",
       "    }\n",
       "</style>\n",
       "<table border=\"1\" class=\"dataframe\">\n",
       "  <thead>\n",
       "    <tr style=\"text-align: right;\">\n",
       "      <th></th>\n",
       "      <th>Time</th>\n",
       "      <th>domain</th>\n",
       "      <th>Day</th>\n",
       "      <th>DayIndex</th>\n",
       "      <th>isWeekend</th>\n",
       "    </tr>\n",
       "  </thead>\n",
       "  <tbody>\n",
       "    <tr>\n",
       "      <th>195</th>\n",
       "      <td>2022-01-23 17:30:57</td>\n",
       "      <td>www.google.com</td>\n",
       "      <td>Sunday</td>\n",
       "      <td>6</td>\n",
       "      <td>True</td>\n",
       "    </tr>\n",
       "    <tr>\n",
       "      <th>196</th>\n",
       "      <td>2022-01-23 17:31:15</td>\n",
       "      <td>www.viki.com</td>\n",
       "      <td>Sunday</td>\n",
       "      <td>6</td>\n",
       "      <td>True</td>\n",
       "    </tr>\n",
       "    <tr>\n",
       "      <th>197</th>\n",
       "      <td>2022-01-23 17:31:57</td>\n",
       "      <td>www.viki.com</td>\n",
       "      <td>Sunday</td>\n",
       "      <td>6</td>\n",
       "      <td>True</td>\n",
       "    </tr>\n",
       "    <tr>\n",
       "      <th>198</th>\n",
       "      <td>2022-01-23 17:31:57</td>\n",
       "      <td>www.viki.com</td>\n",
       "      <td>Sunday</td>\n",
       "      <td>6</td>\n",
       "      <td>True</td>\n",
       "    </tr>\n",
       "    <tr>\n",
       "      <th>199</th>\n",
       "      <td>2022-01-23 17:32:05</td>\n",
       "      <td>www.viki.com</td>\n",
       "      <td>Sunday</td>\n",
       "      <td>6</td>\n",
       "      <td>True</td>\n",
       "    </tr>\n",
       "  </tbody>\n",
       "</table>\n",
       "</div>"
      ],
      "text/plain": [
       "                   Time          domain     Day  DayIndex  isWeekend\n",
       "195 2022-01-23 17:30:57  www.google.com  Sunday         6       True\n",
       "196 2022-01-23 17:31:15    www.viki.com  Sunday         6       True\n",
       "197 2022-01-23 17:31:57    www.viki.com  Sunday         6       True\n",
       "198 2022-01-23 17:31:57    www.viki.com  Sunday         6       True\n",
       "199 2022-01-23 17:32:05    www.viki.com  Sunday         6       True"
      ]
     },
     "execution_count": 26,
     "metadata": {},
     "output_type": "execute_result"
    }
   ],
   "source": [
    "weekend.head()"
   ]
  },
  {
   "cell_type": "code",
   "execution_count": 27,
   "id": "42554867",
   "metadata": {},
   "outputs": [
    {
     "data": {
      "text/plain": [
       "www.google.com           649\n",
       "webauth.umbc.edu         101\n",
       "us.shein.com              93\n",
       "my.umbc.edu               55\n",
       "csprd-web.ps.umbc.edu     47\n",
       "Name: domain, dtype: int64"
      ]
     },
     "execution_count": 27,
     "metadata": {},
     "output_type": "execute_result"
    }
   ],
   "source": [
    "weekday['domain'].value_counts()[:5]"
   ]
  },
  {
   "cell_type": "code",
   "execution_count": 28,
   "id": "47480323",
   "metadata": {},
   "outputs": [
    {
     "data": {
      "text/plain": [
       "www.google.com           513\n",
       "stackoverflow.com         19\n",
       "faker.readthedocs.io      17\n",
       "www.farmrio.com           16\n",
       "www.geeksforgeeks.org     15\n",
       "Name: domain, dtype: int64"
      ]
     },
     "execution_count": 28,
     "metadata": {},
     "output_type": "execute_result"
    }
   ],
   "source": [
    "weekend['domain'].value_counts()[:5]"
   ]
  },
  {
   "cell_type": "code",
   "execution_count": 29,
   "id": "4b9bc38f",
   "metadata": {},
   "outputs": [
    {
     "data": {
      "image/png": "[encoded data removed]",
      "text/plain": [
       "<Figure size 432x288 with 1 Axes>"
      ]
     },
     "metadata": {
      "needs_background": "light"
     },
     "output_type": "display_data"
    }
   ],
   "source": [
    "def show_stats(df, color, alpha=1):\n",
    "    hourly_counts = df.groupby(df.Time.dt.hour).domain.size()\n",
    "    \n",
    "    # fill in the missing hours\n",
    "    for h in range(24):\n",
    "        if h not in hourly_counts:\n",
    "            hourly_counts[h]=0 # I initially didn't do this and hours were not lining up\n",
    "            \n",
    "    hourly_counts.sort_index().plot.bar(color=color, alpha=alpha)\n",
    "    plt.ylim([0, 250])\n",
    "\n",
    "    \n",
    "show_stats(weekend, 'red', 1)\n",
    "    \n",
    "show_stats(weekday, 'blue', 0.5)"
   ]
  },
  {
   "cell_type": "code",
   "execution_count": 30,
   "id": "1d073b60",
   "metadata": {},
   "outputs": [],
   "source": [
    "# be skeptical about your data!\n",
    "# am I on computer a lot more on the weekdays \n",
    "# or it shows more simply becasue there are more weekdays "
   ]
  },
  {
   "cell_type": "code",
   "execution_count": 31,
   "id": "fd292e3b",
   "metadata": {},
   "outputs": [
    {
     "data": {
      "image/png": "[encoded data removed]",
      "text/plain": [
       "<Figure size 432x288 with 1 Axes>"
      ]
     },
     "metadata": {
      "needs_background": "light"
     },
     "output_type": "display_data"
    },
    {
     "data": {
      "image/png": "[encoded data removed]",
      "text/plain": [
       "<Figure size 432x288 with 1 Axes>"
      ]
     },
     "metadata": {
      "needs_background": "light"
     },
     "output_type": "display_data"
    }
   ],
   "source": [
    "def show_stats(df, color, alpha=1, title='', y_lim = None):\n",
    "    hourly_counts = df.groupby(df.Time.dt.hour).domain.size()\n",
    "    \n",
    "    days_counts = df.Time.dt.date.nunique()\n",
    "    \n",
    "    # fill in the missing hours\n",
    "    for h in range(24):\n",
    "        if h not in hourly_counts:\n",
    "            hourly_counts[h]=0 # I initially didn't do this and hours were not lining up\n",
    "        else: \n",
    "            hourly_counts[h] = hourly_counts[h] * 100.0 /  days_counts # I multiplied by 100.0 to make it float and also not to loose decimals\n",
    "            \n",
    "    hourly_counts.sort_index().plot.bar(color=color, alpha=alpha, title=title)\n",
    "    \n",
    "    if y_lim != None:\n",
    "        plt.ylim(y_lim)\n",
    "    plt.show()\n",
    "\n",
    "\n",
    "    \n",
    "y_lim=[0, 500]\n",
    "show_stats(weekend, 'red', 1, 'Weekend', y_lim=y_lim)\n",
    "    \n",
    "show_stats(weekday, 'blue', 0.5, 'Weekday', y_lim=y_lim)"
   ]
  },
  {
   "cell_type": "code",
   "execution_count": 32,
   "id": "bf62bdb4",
   "metadata": {},
   "outputs": [
    {
     "data": {
      "text/plain": [
       "www.google.com                    1162\n",
       "webauth.umbc.edu                   101\n",
       "us.shein.com                        94\n",
       "my.umbc.edu                         55\n",
       "csprd-web.ps.umbc.edu               47\n",
       "stackoverflow.com                   37\n",
       "www.geeksforgeeks.org               24\n",
       "www.etsy.com                        20\n",
       "github.com                          19\n",
       "accounts.google.com                 19\n",
       "umbc.webex.com                      19\n",
       "faker.readthedocs.io                17\n",
       "www.farmrio.com                     16\n",
       "login.docker.com                    16\n",
       "www.pdbmbook.com                    15\n",
       "blackboard.umbc.edu                 15\n",
       "www.viki.com                        14\n",
       "adobeid-na1.services.adobe.com      14\n",
       "tesla.avature.net                   13\n",
       "www.chegg.com                       13\n",
       "www.youtube.com                     12\n",
       "mx.gearbest.com                     10\n",
       "www.superdry.com                    10\n",
       "www.scener.com                      10\n",
       "www.tandfonline.com                  9\n",
       "www.apartments.com                   9\n",
       "data.cdc.gov                         8\n",
       "www.walmart.com                      8\n",
       "towardsdatascience.com               7\n",
       "www.nike.com                         7\n",
       "seaborn.pydata.org                   6\n",
       "www.aldoshoes.com                    6\n",
       "mail.google.com                      6\n",
       "www.coach.com                        5\n",
       "boomerangofficefurniture.com         5\n",
       "www.amazon.com                       5\n",
       "www.w3schools.com                    5\n",
       "medium.com                           5\n",
       "www.w3resource.com                   5\n",
       "www.dollartree.com                   5\n",
       "www.jcpenney.com                     4\n",
       "www.delftstack.com                   4\n",
       "faynirdgvcwsa.com                    4\n",
       "matplotlib.org                       4\n",
       "desktop.github.com                   4\n",
       "pandas.pydata.org                    4\n",
       "www.freecodecamp.org                 4\n",
       "notepadplusplusdownload.com          4\n",
       "docs.anaconda.com                    4\n",
       "builtin.com                          4\n",
       "Name: domain, dtype: int64"
      ]
     },
     "execution_count": 32,
     "metadata": {},
     "output_type": "execute_result"
    }
   ],
   "source": [
    "df['domain'].value_counts()[:50]"
   ]
  },
  {
   "cell_type": "code",
   "execution_count": 33,
   "id": "56e3c66b",
   "metadata": {},
   "outputs": [],
   "source": [
    "df['domain'] = df['domain'].astype(str)"
   ]
  },
  {
   "cell_type": "code",
   "execution_count": 34,
   "id": "a627655d",
   "metadata": {},
   "outputs": [],
   "source": [
    "def get_data_for_domain(val):\n",
    "    return df[ [True if val.lower() in i.lower() else False for i in df['domain'] ]]\n",
    "\n",
    "\n",
    "def show_domain_stats(domain, color='blue', alpha=1):\n",
    "    data = get_data_for_domain(domain)\n",
    "    show_stats(data, color, alpha)\n",
    "    return data"
   ]
  },
  {
   "cell_type": "code",
   "execution_count": 35,
   "id": "2bad407a",
   "metadata": {},
   "outputs": [
    {
     "data": {
      "image/png": "[encoded data removed]",
      "text/plain": [
       "<Figure size 432x288 with 1 Axes>"
      ]
     },
     "metadata": {
      "needs_background": "light"
     },
     "output_type": "display_data"
    }
   ],
   "source": [
    "_= show_domain_stats('umbc', 'blue')"
   ]
  },
  {
   "cell_type": "code",
   "execution_count": 36,
   "id": "b99575f6",
   "metadata": {},
   "outputs": [
    {
     "data": {
      "image/png": "[encoded data removed]",
      "text/plain": [
       "<Figure size 432x288 with 1 Axes>"
      ]
     },
     "metadata": {
      "needs_background": "light"
     },
     "output_type": "display_data"
    }
   ],
   "source": [
    "_= show_domain_stats('www.google.com', 'blue')"
   ]
  },
  {
   "cell_type": "code",
   "execution_count": 37,
   "id": "1978c56c",
   "metadata": {},
   "outputs": [
    {
     "data": {
      "image/png": "[encoded data removed]",
      "text/plain": [
       "<Figure size 432x288 with 1 Axes>"
      ]
     },
     "metadata": {
      "needs_background": "light"
     },
     "output_type": "display_data"
    }
   ],
   "source": [
    "_ = show_domain_stats('stackover', 'magenta')"
   ]
  },
  {
   "cell_type": "code",
   "execution_count": 38,
   "id": "771b3dc5",
   "metadata": {},
   "outputs": [
    {
     "data": {
      "image/png": "[encoded data removed]",
      "text/plain": [
       "<Figure size 432x288 with 1 Axes>"
      ]
     },
     "metadata": {
      "needs_background": "light"
     },
     "output_type": "display_data"
    }
   ],
   "source": [
    "_ = show_domain_stats('youtube', 'red')"
   ]
  },
  {
   "cell_type": "code",
   "execution_count": 39,
   "id": "90661a8d",
   "metadata": {},
   "outputs": [
    {
     "data": {
      "image/png": "[encoded data removed]",
      "text/plain": [
       "<Figure size 432x288 with 1 Axes>"
      ]
     },
     "metadata": {
      "needs_background": "light"
     },
     "output_type": "display_data"
    }
   ],
   "source": [
    "_=show_domain_stats('blackboard', 'black')"
   ]
  },
  {
   "cell_type": "markdown",
   "id": "608d89fa",
   "metadata": {},
   "source": [
    "### Based on data, what can we tell about this person?\n",
    "\n",
    "1. Is this a work computer/personal computer?\n",
    "\n",
    "\n",
    "2. Is he employed?\n",
    "\n",
    "\n",
    "3. What is his interests?\n",
    "\n",
    "\n",
    "4. Anything interesting?\n",
    "\n",
    "answer here"
   ]
  },
  {
   "cell_type": "markdown",
   "id": "6d93b9e2",
   "metadata": {},
   "source": [
    "1. The Browsing History seems like it is of a student from UMBC. It also seems like it is a personal computer.\n",
    "2. Probably not, because the browsing history seems more like that of a student\n",
    "3. It is mostly the academic intrests, apart from that the user likes to watch youtube and has a shopping habbit.\n",
    "4. It can also be estimated that the user might have not used chrome for most of their activities except for academic purposes and shopping purposes. The user chrome for the purpose of google.\n",
    "\n",
    "\n",
    "#### What do you think about this assignment?\n",
    "\n",
    "\n",
    "The is a great example for any student learning data visualization. This also helped me make good sense of the whole purpose. This also gave me a better insight on how metadata can be analysed and visualized in order to understand a users browsing habits and lifestyle as a whole. "
   ]
  }
 ],
 "metadata": {
  "kernelspec": {
   "display_name": "Python 3 (ipykernel)",
   "language": "python",
   "name": "python3"
  },
  "language_info": {
   "codemirror_mode": {
    "name": "ipython",
    "version": 3
   },
   "file_extension": ".py",
   "mimetype": "text/x-python",
   "name": "python",
   "nbconvert_exporter": "python",
   "pygments_lexer": "ipython3",
   "version": "3.9.7"
  }
 },
 "nbformat": 4,
 "nbformat_minor": 5
}
