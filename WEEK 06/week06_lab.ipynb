{
 "cells": [
  {
   "cell_type": "markdown",
   "id": "142f4de1",
   "metadata": {
    "id": "v5Zi0hVzU34f"
   },
   "source": [
    "# Week6 Lab\n",
    "\n",
    "## Download & Extract Data\n",
    "\n",
    "Programmatically download the zip file & extract"
   ]
  },
  {
   "cell_type": "code",
   "execution_count": null,
   "id": "366aa3f0",
   "metadata": {
    "colab": {
     "base_uri": "https://localhost:8080/"
    },
    "id": "sbIweVvCfHMU",
    "outputId": "5c1794ed-460b-46fe-e09b-675284a038a7",
    "scrolled": true
   },
   "outputs": [],
   "source": [
    "file_url = 'https://github.com/msaricaumbc/DS_data/blob/master/lab_data.zip?raw=true'\n"
   ]
  },
  {
   "cell_type": "code",
   "execution_count": 2,
   "id": "6ddc4410",
   "metadata": {},
   "outputs": [],
   "source": [
    "from zipfile import ZipFile\n",
    "from urllib import request"
   ]
  },
  {
   "cell_type": "code",
   "execution_count": 3,
   "id": "1054d961",
   "metadata": {},
   "outputs": [],
   "source": [
    "file_url = 'https://github.com/msaricaumbc/DS_data/blob/master/lab_data.zip?raw=true'\n",
    "file_name = 'file_one.csv'\n",
    "def download_file(file_name, file_url):\n",
    "    res = request.urlopen(file_url)\n",
    "    with open(file_name, 'wb') as file:\n",
    "        file.write(res.read())\n"
   ]
  },
  {
   "cell_type": "code",
   "execution_count": 4,
   "id": "3b1b63bc",
   "metadata": {},
   "outputs": [],
   "source": [
    "download_file('file_one.csv', 'https://github.com/msaricaumbc/DS_data/blob/master/lab_data.zip?raw=true')"
   ]
  },
  {
   "cell_type": "code",
   "execution_count": 5,
   "id": "18e24413",
   "metadata": {},
   "outputs": [],
   "source": [
    "def unzip(file_name, path='./'):\n",
    "    # opening the zip file in READ mode \n",
    "    with ZipFile(file_name, 'r') as zip: \n",
    "        # printing all the contents of the zip file \n",
    "        zip.printdir() \n",
    "\n",
    "        # extracting all the files \n",
    "        print('Extracting all the files now...') \n",
    "        zip.extractall(path = path) \n",
    "        print('Done!') "
   ]
  },
  {
   "cell_type": "code",
   "execution_count": 6,
   "id": "320cdf62",
   "metadata": {},
   "outputs": [
    {
     "name": "stdout",
     "output_type": "stream",
     "text": [
      "File Name                                             Modified             Size\n",
      "PoliceShootingsUS.csv                          2021-09-21 20:53:54       227653\n",
      "__MACOSX/._PoliceShootingsUS.csv               2021-09-21 20:53:54          276\n",
      "volunteers.txt                                 2021-10-06 00:32:28         7015\n",
      "__MACOSX/._volunteers.txt                      2021-10-06 00:32:28          176\n",
      "Extracting all the files now...\n",
      "Done!\n"
     ]
    }
   ],
   "source": [
    "unzip(file_name)"
   ]
  },
  {
   "cell_type": "code",
   "execution_count": 7,
   "id": "933f84a4",
   "metadata": {},
   "outputs": [
    {
     "name": "stdout",
     "output_type": "stream",
     "text": [
      "2D Lists.ipynb\r\n",
      "Alphabet Pattern.ipynb\r\n",
      "\u001b[34mApplications\u001b[m\u001b[m\r\n",
      "Data Visualization basics - DATA 601.ipynb\r\n",
      "\u001b[34mDesktop\u001b[m\u001b[m\r\n",
      "\u001b[34mDocuments\u001b[m\u001b[m\r\n",
      "\u001b[34mDownloads\u001b[m\u001b[m\r\n",
      "For Loop.ipynb\r\n",
      "Inverted Pattern.ipynb\r\n",
      "\u001b[34mLibrary\u001b[m\u001b[m\r\n",
      "Lists.ipynb\r\n",
      "\u001b[34mMovies\u001b[m\u001b[m\r\n",
      "\u001b[34mMusic\u001b[m\u001b[m\r\n",
      "Pattern.ipynb\r\n",
      "\u001b[34mPictures\u001b[m\u001b[m\r\n",
      "PoliceShootingsUS.csv\r\n",
      "\u001b[34mPublic\u001b[m\u001b[m\r\n",
      "String.ipynb\r\n",
      "Untitled.ipynb\r\n",
      "Week 2 class.ipynb\r\n",
      "\u001b[34m__MACOSX\u001b[m\u001b[m\r\n",
      "coin_flips.png\r\n",
      "file_one.csv\r\n",
      "my_script.ipynb\r\n",
      "\u001b[34mopt\u001b[m\u001b[m\r\n",
      "python introduction.ipynb\r\n",
      "sample.ipynb\r\n",
      "\u001b[34mseaborn-data\u001b[m\u001b[m\r\n",
      "summary.txt\r\n",
      "volunteers.txt\r\n",
      "week06_lab.ipynb\r\n"
     ]
    }
   ],
   "source": [
    "!ls"
   ]
  },
  {
   "cell_type": "markdown",
   "id": "3b50c890",
   "metadata": {
    "id": "_kjkZyypfdLD"
   },
   "source": [
    "## Reading data from a csv file"
   ]
  },
  {
   "cell_type": "markdown",
   "id": "eb1e93f2",
   "metadata": {
    "id": "RgyCSGYBgCK0"
   },
   "source": [
    "For the file `PoliceShootingsUS.csv`, please answer the following questions:\n",
    "\n",
    "* How many offenders are older than 55? "
   ]
  },
  {
   "cell_type": "code",
   "execution_count": 16,
   "id": "e45513f2",
   "metadata": {},
   "outputs": [],
   "source": [
    "import pandas as pd\n",
    "data = pd.read_csv('PoliceShootingsUS.csv', encoding='cp1252')"
   ]
  },
  {
   "cell_type": "code",
   "execution_count": 18,
   "id": "d8f99b01",
   "metadata": {},
   "outputs": [
    {
     "data": {
      "text/html": [
       "<div>\n",
       "<style scoped>\n",
       "    .dataframe tbody tr th:only-of-type {\n",
       "        vertical-align: middle;\n",
       "    }\n",
       "\n",
       "    .dataframe tbody tr th {\n",
       "        vertical-align: top;\n",
       "    }\n",
       "\n",
       "    .dataframe thead th {\n",
       "        text-align: right;\n",
       "    }\n",
       "</style>\n",
       "<table border=\"1\" class=\"dataframe\">\n",
       "  <thead>\n",
       "    <tr style=\"text-align: right;\">\n",
       "      <th></th>\n",
       "      <th>id</th>\n",
       "      <th>name</th>\n",
       "      <th>date</th>\n",
       "      <th>manner_of_death</th>\n",
       "      <th>armed</th>\n",
       "      <th>age</th>\n",
       "      <th>gender</th>\n",
       "      <th>race</th>\n",
       "      <th>city</th>\n",
       "      <th>state</th>\n",
       "      <th>signs_of_mental_illness</th>\n",
       "      <th>threat_level</th>\n",
       "      <th>flee</th>\n",
       "      <th>body_camera</th>\n",
       "    </tr>\n",
       "  </thead>\n",
       "  <tbody>\n",
       "    <tr>\n",
       "      <th>0</th>\n",
       "      <td>3</td>\n",
       "      <td>Tim Elliot</td>\n",
       "      <td>02/01/15</td>\n",
       "      <td>shot</td>\n",
       "      <td>gun</td>\n",
       "      <td>53.0</td>\n",
       "      <td>M</td>\n",
       "      <td>A</td>\n",
       "      <td>Shelton</td>\n",
       "      <td>WA</td>\n",
       "      <td>True</td>\n",
       "      <td>attack</td>\n",
       "      <td>Not fleeing</td>\n",
       "      <td>False</td>\n",
       "    </tr>\n",
       "    <tr>\n",
       "      <th>1</th>\n",
       "      <td>4</td>\n",
       "      <td>Lewis Lee Lembke</td>\n",
       "      <td>02/01/15</td>\n",
       "      <td>shot</td>\n",
       "      <td>gun</td>\n",
       "      <td>47.0</td>\n",
       "      <td>M</td>\n",
       "      <td>W</td>\n",
       "      <td>Aloha</td>\n",
       "      <td>OR</td>\n",
       "      <td>False</td>\n",
       "      <td>attack</td>\n",
       "      <td>Not fleeing</td>\n",
       "      <td>False</td>\n",
       "    </tr>\n",
       "    <tr>\n",
       "      <th>2</th>\n",
       "      <td>5</td>\n",
       "      <td>John Paul Quintero</td>\n",
       "      <td>03/01/15</td>\n",
       "      <td>shot and Tasered</td>\n",
       "      <td>unarmed</td>\n",
       "      <td>23.0</td>\n",
       "      <td>M</td>\n",
       "      <td>H</td>\n",
       "      <td>Wichita</td>\n",
       "      <td>KS</td>\n",
       "      <td>False</td>\n",
       "      <td>other</td>\n",
       "      <td>Not fleeing</td>\n",
       "      <td>False</td>\n",
       "    </tr>\n",
       "    <tr>\n",
       "      <th>3</th>\n",
       "      <td>8</td>\n",
       "      <td>Matthew Hoffman</td>\n",
       "      <td>04/01/15</td>\n",
       "      <td>shot</td>\n",
       "      <td>toy weapon</td>\n",
       "      <td>32.0</td>\n",
       "      <td>M</td>\n",
       "      <td>W</td>\n",
       "      <td>San Francisco</td>\n",
       "      <td>CA</td>\n",
       "      <td>True</td>\n",
       "      <td>attack</td>\n",
       "      <td>Not fleeing</td>\n",
       "      <td>False</td>\n",
       "    </tr>\n",
       "    <tr>\n",
       "      <th>4</th>\n",
       "      <td>9</td>\n",
       "      <td>Michael Rodriguez</td>\n",
       "      <td>04/01/15</td>\n",
       "      <td>shot</td>\n",
       "      <td>nail gun</td>\n",
       "      <td>39.0</td>\n",
       "      <td>M</td>\n",
       "      <td>H</td>\n",
       "      <td>Evans</td>\n",
       "      <td>CO</td>\n",
       "      <td>False</td>\n",
       "      <td>attack</td>\n",
       "      <td>Not fleeing</td>\n",
       "      <td>False</td>\n",
       "    </tr>\n",
       "  </tbody>\n",
       "</table>\n",
       "</div>"
      ],
      "text/plain": [
       "   id                name      date   manner_of_death       armed   age  \\\n",
       "0   3          Tim Elliot  02/01/15              shot         gun  53.0   \n",
       "1   4    Lewis Lee Lembke  02/01/15              shot         gun  47.0   \n",
       "2   5  John Paul Quintero  03/01/15  shot and Tasered     unarmed  23.0   \n",
       "3   8     Matthew Hoffman  04/01/15              shot  toy weapon  32.0   \n",
       "4   9   Michael Rodriguez  04/01/15              shot    nail gun  39.0   \n",
       "\n",
       "  gender race           city state  signs_of_mental_illness threat_level  \\\n",
       "0      M    A        Shelton    WA                     True       attack   \n",
       "1      M    W          Aloha    OR                    False       attack   \n",
       "2      M    H        Wichita    KS                    False        other   \n",
       "3      M    W  San Francisco    CA                     True       attack   \n",
       "4      M    H          Evans    CO                    False       attack   \n",
       "\n",
       "          flee  body_camera  \n",
       "0  Not fleeing        False  \n",
       "1  Not fleeing        False  \n",
       "2  Not fleeing        False  \n",
       "3  Not fleeing        False  \n",
       "4  Not fleeing        False  "
      ]
     },
     "execution_count": 18,
     "metadata": {},
     "output_type": "execute_result"
    }
   ],
   "source": [
    "data.head()"
   ]
  },
  {
   "cell_type": "code",
   "execution_count": 26,
   "id": "367088e5",
   "metadata": {
    "id": "v7tImBaOgNwo"
   },
   "outputs": [
    {
     "data": {
      "text/plain": [
       "235"
      ]
     },
     "execution_count": 26,
     "metadata": {},
     "output_type": "execute_result"
    }
   ],
   "source": [
    "## Your code is here\n",
    "q1 = data.loc[data['age'] > 55]\n",
    "len(q1)"
   ]
  },
  {
   "cell_type": "markdown",
   "id": "02305a57",
   "metadata": {},
   "source": [
    "* What's the age distribution?"
   ]
  },
  {
   "cell_type": "code",
   "execution_count": 27,
   "id": "0b4f74c9",
   "metadata": {
    "id": "v7tImBaOgNwo"
   },
   "outputs": [
    {
     "data": {
      "text/plain": [
       "<seaborn.axisgrid.FacetGrid at 0x7fec80da7430>"
      ]
     },
     "execution_count": 27,
     "metadata": {},
     "output_type": "execute_result"
    },
    {
     "data": {
      "image/png": "[encoded data removed]",
      "text/plain": [
       "<Figure size 360x360 with 1 Axes>"
      ]
     },
     "metadata": {
      "needs_background": "light"
     },
     "output_type": "display_data"
    }
   ],
   "source": [
    "## Your code is here\n",
    "import seaborn as sns\n",
    "sns.displot(data, x=\"age\", kind=\"kde\")\n",
    "\n"
   ]
  },
  {
   "cell_type": "markdown",
   "id": "fea7d570",
   "metadata": {},
   "source": [
    "## Dirty data\n",
    "\n",
    "Read `volunteers.txt` file and perform the following action:\n",
    "\n",
    "* Create a dataframe with columns: Name, Lastname, State"
   ]
  },
  {
   "cell_type": "code",
   "execution_count": 31,
   "id": "9ba294f2",
   "metadata": {},
   "outputs": [
    {
     "name": "stdout",
     "output_type": "stream",
     "text": [
      "\"log\"[Harding, Christine] (Virginia) - Universal human-resource flexibility\r\n",
      "\"log\"[Davis, Kimberly] (New York) - Compatible demand-driven hub\r\n",
      "\"log\"[Ingram, Rachel] (Louisiana) - Versatile multimedia website\r\n",
      "\"log\"[Walker, Richard] (Oregon) - Networked eco-centric approach\r\n",
      "\"log\"[Barnes, Francisco] (Virginia) - Persistent systematic moratorium\r\n",
      "\"log\"[Perez, Rachel] (Alaska) - Optimized national portal\r\n",
      "\"log\"[Choi, Linda] (Iowa) - Operative discrete Internet solution\r\n",
      "\"log\"[Gomez, Janice] (Vermont) - Managed national attitude\r\n",
      "\"log\"[Lloyd, Jesus] (Connecticut) - Adaptive systematic definition\r\n",
      "\"log\"[Moore, Alicia] (Michigan) - Innovative motivating support\r\n",
      "\"log\"[Murray, Pamela] (Arizona) - Diverse systematic policy\r\n",
      "\"log\"[Moore, Brittney] (Washington) - Progressive web-enabled synergy\r\n",
      "\"log\"[Jones, Alexander] (Arizona) - Advanced 24/7 data-warehouse\r\n",
      "\"log\"[Morales, David] (Florida) - Streamlined eco-centric conglomeration\r\n",
      "\"log\"[Hogan, Elizabeth] (Rhode Island) - Re-engineered demand-driven groupware\r\n",
      "\"log\"[Floyd, Courtney] (Pennsylvania) - Cloned real-time collaboration\r\n",
      "\"log\"[Scott, Mark] (West Virginia) - Grass-roots impactful firmware\r\n",
      "\"log\"[Johnson, Philip] (North Carolina) - Right-sized motivating function\r\n",
      "\"log\"[Taylor, Michael] (New Hampshire) - Streamlined bifurcated toolset\r\n",
      "\"log\"[Freeman, Barbara] (Pennsylvania) - Re-engineered radical initiative\r\n",
      "\"log\"[Humphrey, Shawn] (Oklahoma) - Reactive bi-directional array\r\n",
      "\"log\"[Schultz, Ernest] (South Carolina) - Re-contextualized stable protocol\r\n",
      "\"log\"[Harper, Alexander] (Mississippi) - Reactive system-worthy database\r\n",
      "\"log\"[Shaw, Kendra] (Nebraska) - Stand-alone regional knowledgebase\r\n",
      "\"log\"[Glenn, Samantha] (Louisiana) - Ergonomic mission-critical intranet\r\n",
      "\"log\"[Jackson, Kara] (Wyoming) - Team-oriented value-added extranet\r\n",
      "\"log\"[Rivera, Vickie] (North Carolina) - Cloned real-time customer loyalty\r\n",
      "\"log\"[Robinson, Matthew] (Iowa) - Organic next generation neural-net\r\n",
      "\"log\"[Taylor, Nicole] (Kansas) - Vision-oriented methodical project\r\n",
      "\"log\"[Harper, Eric] (South Dakota) - User-friendly modular productivity\r\n",
      "\"log\"[Smith, Karen] (Oklahoma) - Seamless user-facing complexity\r\n",
      "\"log\"[Chavez, Donald] (Nebraska) - Customer-focused hybrid capacity\r\n",
      "\"log\"[Thompson, Sarah] (Ohio) - Ergonomic coherent support\r\n",
      "\"log\"[Gibson, Veronica] (Vermont) - Devolved attitude-oriented info-mediaries\r\n",
      "\"log\"[Taylor, Steven] (Montana) - Visionary 6thgeneration productivity\r\n",
      "\"log\"[Mitchell, Alexandra] (North Carolina) - Realigned asymmetric encryption\r\n",
      "\"log\"[Simmons, Nicole] (Texas) - Secured homogeneous instruction set\r\n",
      "\"log\"[Ramirez, Riley] (South Dakota) - Managed modular functionalities\r\n",
      "\"log\"[Lopez, Kenneth] (Colorado) - Managed multi-state capability\r\n",
      "\"log\"[Rose, Jeffery] (Kentucky) - Digitized multi-tasking success\r\n",
      "\"log\"[Brown, Nichole] (Wisconsin) - Fully-configurable multimedia frame\r\n",
      "\"log\"[Zimmerman, Mary] (South Carolina) - Business-focused grid-enabled interface\r\n",
      "\"log\"[Martinez, Andrew] (Massachusetts) - Streamlined directional project\r\n",
      "\"log\"[Mack, Richard] (Tennessee) - Multi-layered 4thgeneration complexity\r\n",
      "\"log\"[Harris, Emily] (Tennessee) - Re-contextualized national software\r\n",
      "\"log\"[Foster, Abigail] (Tennessee) - Cross-group national website\r\n",
      "\"log\"[Hines, Michael] (Alaska) - Horizontal secondary alliance\r\n",
      "\"log\"[Fields, Jennifer] (Alabama) - Synergistic cohesive capacity\r\n",
      "\"log\"[Austin, Roberto] (Oklahoma) - Grass-roots holistic initiative\r\n",
      "\"log\"[Choi, Kimberly] (Maryland) - User-centric 6thgeneration policy\r\n",
      "\"log\"[Jacobs, Susan] (West Virginia) - Business-focused bottom-line utilization\r\n",
      "\"log\"[Morales, Rita] (Nevada) - Team-oriented holistic implementation\r\n",
      "\"log\"[Morales, Matthew] (Pennsylvania) - Progressive multi-state help-desk\r\n",
      "\"log\"[Payne, Trevor] (Wyoming) - Organic motivating installation\r\n",
      "\"log\"[Harmon, Melissa] (Michigan) - Organized 4thgeneration policy\r\n",
      "\"log\"[Hooper, Paul] (South Dakota) - Switchable composite alliance\r\n",
      "\"log\"[Henry, Robert] (Colorado) - Function-based contextually-based framework\r\n",
      "\"log\"[Bell, Connor] (Pennsylvania) - Pre-emptive neutral data-warehouse\r\n",
      "\"log\"[Mercado, Charles] (Arkansas) - Operative directional strategy\r\n",
      "\"log\"[Nelson, Ashley] (Tennessee) - Digitized multi-tasking forecast\r\n",
      "\"log\"[Lewis, Paul] (New York) - Programmable hybrid matrices\r\n",
      "\"log\"[Tanner, Ashley] (Nebraska) - Secured static synergy\r\n",
      "\"log\"[Zavala, Jeffery] (North Dakota) - Business-focused 24/7 installation\r\n",
      "\"log\"[Taylor, Kevin] (Washington) - Business-focused multi-state leverage\r\n",
      "\"log\"[Diaz, Michelle] (Oklahoma) - Seamless 4thgeneration collaboration\r\n",
      "\"log\"[Peterson, Shelly] (New Mexico) - Total radical functionalities\r\n",
      "\"log\"[Johnson, Robin] (Iowa) - Intuitive foreground process improvement\r\n",
      "\"log\"[Daniel, Helen] (Montana) - Programmable holistic interface\r\n",
      "\"log\"[Bartlett, Vanessa] (New York) - Diverse multimedia workforce\r\n",
      "\"log\"[Orozco, Emily] (Vermont) - Open-architected incremental toolset\r\n",
      "\"log\"[Bailey, Joseph] (Rhode Island) - Profit-focused zero administration open architecture\r\n",
      "\"log\"[Hardin, Monica] (Alaska) - Synergistic optimal moratorium\r\n",
      "\"log\"[Hartman, Jorge] (Minnesota) - User-centric next generation budgetary management\r\n",
      "\"log\"[Camacho, Jennifer] (New Jersey) - Seamless transitional open system\r\n",
      "\"log\"[Hardy, Amber] (Vermont) - Upgradable content-based secured line\r\n",
      "\"log\"[Ward, Tyler] (Pennsylvania) - Secured regional knowledge user\r\n",
      "\"log\"[Jenkins, Ruben] (Vermont) - Fully-configurable multi-state installation\r\n",
      "\"log\"[Greene, Larry] (South Dakota) - Quality-focused maximized strategy\r\n",
      "\"log\"[Wyatt, James] (Wisconsin) - Multi-lateral eco-centric hierarchy\r\n",
      "\"log\"[Leblanc, Travis] (Oregon) - Quality-focused fresh-thinking monitoring\r\n",
      "\"log\"[Rogers, Teresa] (Wyoming) - Switchable encompassing leverage\r\n",
      "\"log\"[Conley, Scott] (Michigan) - Mandatory impactful functionalities\r\n",
      "\"log\"[Murray, Patricia] (Hawaii) - Front-line neutral process improvement\r\n",
      "\"log\"[Matthews, Amber] (Massachusetts) - Multi-tiered needs-based system engine\r\n",
      "\"log\"[Munoz, Jessica] (Kansas) - Inverse 4thgeneration application\r\n",
      "\"log\"[Ball, Andrea] (Washington) - Managed user-facing forecast\r\n",
      "\"log\"[Wagner, Sydney] (New York) - Managed client-server algorithm\r\n",
      "\"log\"[Hebert, Stephanie] (Minnesota) - Networked attitude-oriented capability\r\n",
      "\"log\"[Harrington, Joseph] (South Dakota) - Balanced actuating protocol\r\n",
      "\"log\"[Jackson, David] (North Dakota) - Compatible scalable matrices\r\n",
      "\"log\"[Jones, Natalie] (Michigan) - Focused systemic hierarchy\r\n",
      "\"log\"[Thornton, Seth] (Iowa) - Innovative content-based forecast\r\n",
      "\"log\"[Nelson, Steven] (Wisconsin) - User-centric attitude-oriented flexibility\r\n",
      "\"log\"[Green, Robert] (Kansas) - Synchronized 4thgeneration focus group\r\n",
      "\"log\"[Blair, Crystal] (Kansas) - Triple-buffered radical capability\r\n",
      "\"log\"[Smith, Kevin] (North Dakota) - Seamless discrete time-frame\r\n",
      "\"log\"[Moore, Mark] (Alaska) - Team-oriented actuating capacity\r\n",
      "\"log\"[Landry, Jennifer] (Wyoming) - User-centric object-oriented neural-net\r\n",
      "\"log\"[Phillips, Lori] (Arkansas) - Sharable content-based parallelism\r\n",
      "\"log\"[Davis, Tiffany] (Mississippi) - Focused asynchronous process improvement\r\n"
     ]
    }
   ],
   "source": [
    "!cat volunteers.txt"
   ]
  },
  {
   "cell_type": "code",
   "execution_count": 68,
   "id": "8c0f7665",
   "metadata": {},
   "outputs": [
    {
     "data": {
      "text/html": [
       "<div>\n",
       "<style scoped>\n",
       "    .dataframe tbody tr th:only-of-type {\n",
       "        vertical-align: middle;\n",
       "    }\n",
       "\n",
       "    .dataframe tbody tr th {\n",
       "        vertical-align: top;\n",
       "    }\n",
       "\n",
       "    .dataframe thead th {\n",
       "        text-align: right;\n",
       "    }\n",
       "</style>\n",
       "<table border=\"1\" class=\"dataframe\">\n",
       "  <thead>\n",
       "    <tr style=\"text-align: right;\">\n",
       "      <th></th>\n",
       "      <th>Name</th>\n",
       "      <th>Lastname</th>\n",
       "      <th>State</th>\n",
       "    </tr>\n",
       "  </thead>\n",
       "  <tbody>\n",
       "    <tr>\n",
       "      <th>0</th>\n",
       "      <td>Harding</td>\n",
       "      <td>Christine</td>\n",
       "      <td>Virginia</td>\n",
       "    </tr>\n",
       "    <tr>\n",
       "      <th>1</th>\n",
       "      <td>Davis</td>\n",
       "      <td>Kimberly</td>\n",
       "      <td>New York</td>\n",
       "    </tr>\n",
       "    <tr>\n",
       "      <th>2</th>\n",
       "      <td>Ingram</td>\n",
       "      <td>Rachel</td>\n",
       "      <td>Louisiana</td>\n",
       "    </tr>\n",
       "    <tr>\n",
       "      <th>3</th>\n",
       "      <td>Walker</td>\n",
       "      <td>Richard</td>\n",
       "      <td>Oregon</td>\n",
       "    </tr>\n",
       "    <tr>\n",
       "      <th>4</th>\n",
       "      <td>Barnes</td>\n",
       "      <td>Francisco</td>\n",
       "      <td>Virginia</td>\n",
       "    </tr>\n",
       "    <tr>\n",
       "      <th>...</th>\n",
       "      <td>...</td>\n",
       "      <td>...</td>\n",
       "      <td>...</td>\n",
       "    </tr>\n",
       "    <tr>\n",
       "      <th>95</th>\n",
       "      <td>Smith</td>\n",
       "      <td>Kevin</td>\n",
       "      <td>North Dakota</td>\n",
       "    </tr>\n",
       "    <tr>\n",
       "      <th>96</th>\n",
       "      <td>Moore</td>\n",
       "      <td>Mark</td>\n",
       "      <td>Alaska</td>\n",
       "    </tr>\n",
       "    <tr>\n",
       "      <th>97</th>\n",
       "      <td>Landry</td>\n",
       "      <td>Jennifer</td>\n",
       "      <td>Wyoming</td>\n",
       "    </tr>\n",
       "    <tr>\n",
       "      <th>98</th>\n",
       "      <td>Phillips</td>\n",
       "      <td>Lori</td>\n",
       "      <td>Arkansas</td>\n",
       "    </tr>\n",
       "    <tr>\n",
       "      <th>99</th>\n",
       "      <td>Davis</td>\n",
       "      <td>Tiffany</td>\n",
       "      <td>Mississippi</td>\n",
       "    </tr>\n",
       "  </tbody>\n",
       "</table>\n",
       "<p>100 rows × 3 columns</p>\n",
       "</div>"
      ],
      "text/plain": [
       "        Name    Lastname             State\n",
       "0    Harding   Christine        Virginia  \n",
       "1      Davis    Kimberly        New York  \n",
       "2     Ingram      Rachel       Louisiana  \n",
       "3     Walker     Richard          Oregon  \n",
       "4     Barnes   Francisco        Virginia  \n",
       "..       ...         ...               ...\n",
       "95     Smith       Kevin    North Dakota  \n",
       "96     Moore        Mark          Alaska  \n",
       "97    Landry    Jennifer         Wyoming  \n",
       "98  Phillips        Lori        Arkansas  \n",
       "99     Davis     Tiffany     Mississippi  \n",
       "\n",
       "[100 rows x 3 columns]"
      ]
     },
     "execution_count": 68,
     "metadata": {},
     "output_type": "execute_result"
    }
   ],
   "source": [
    "## Your code is here\n",
    "Name = []\n",
    "Lastname = []\n",
    "State = []\n",
    "with open('volunteers.txt') as txtfile:\n",
    "    get_lines = txtfile.readlines()\n",
    "    for line in get_lines:\n",
    "        new_data = line.replace('[', ',').replace(']', ',').replace('(', ' ').replace(')', ' ').replace('-', ',')\n",
    "        split_data = new_data.split(',')\n",
    "        get_Name = split_data[1]\n",
    "        get_Lastname = split_data[2]\n",
    "        get_State = split_data[3]\n",
    "        Name.append(get_Name)\n",
    "        Lastname.append(get_Lastname)\n",
    "        State.append(get_State)\n",
    "\n",
    "dataframe = pd.DataFrame()\n",
    "dataframe['Name'] = Name\n",
    "dataframe['Lastname'] = Lastname\n",
    "dataframe['State'] = State\n",
    "dataframe"
   ]
  },
  {
   "cell_type": "code",
   "execution_count": 69,
   "id": "cf0259df",
   "metadata": {},
   "outputs": [
    {
     "data": {
      "text/html": [
       "<div>\n",
       "<style scoped>\n",
       "    .dataframe tbody tr th:only-of-type {\n",
       "        vertical-align: middle;\n",
       "    }\n",
       "\n",
       "    .dataframe tbody tr th {\n",
       "        vertical-align: top;\n",
       "    }\n",
       "\n",
       "    .dataframe thead th {\n",
       "        text-align: right;\n",
       "    }\n",
       "</style>\n",
       "<table border=\"1\" class=\"dataframe\">\n",
       "  <thead>\n",
       "    <tr style=\"text-align: right;\">\n",
       "      <th></th>\n",
       "      <th>Name</th>\n",
       "      <th>Lastname</th>\n",
       "      <th>State</th>\n",
       "    </tr>\n",
       "  </thead>\n",
       "  <tbody>\n",
       "    <tr>\n",
       "      <th>0</th>\n",
       "      <td>Harding</td>\n",
       "      <td>Christine</td>\n",
       "      <td>Virginia</td>\n",
       "    </tr>\n",
       "    <tr>\n",
       "      <th>1</th>\n",
       "      <td>Davis</td>\n",
       "      <td>Kimberly</td>\n",
       "      <td>New York</td>\n",
       "    </tr>\n",
       "    <tr>\n",
       "      <th>2</th>\n",
       "      <td>Ingram</td>\n",
       "      <td>Rachel</td>\n",
       "      <td>Louisiana</td>\n",
       "    </tr>\n",
       "    <tr>\n",
       "      <th>3</th>\n",
       "      <td>Walker</td>\n",
       "      <td>Richard</td>\n",
       "      <td>Oregon</td>\n",
       "    </tr>\n",
       "    <tr>\n",
       "      <th>4</th>\n",
       "      <td>Barnes</td>\n",
       "      <td>Francisco</td>\n",
       "      <td>Virginia</td>\n",
       "    </tr>\n",
       "    <tr>\n",
       "      <th>...</th>\n",
       "      <td>...</td>\n",
       "      <td>...</td>\n",
       "      <td>...</td>\n",
       "    </tr>\n",
       "    <tr>\n",
       "      <th>95</th>\n",
       "      <td>Smith</td>\n",
       "      <td>Kevin</td>\n",
       "      <td>North Dakota</td>\n",
       "    </tr>\n",
       "    <tr>\n",
       "      <th>96</th>\n",
       "      <td>Moore</td>\n",
       "      <td>Mark</td>\n",
       "      <td>Alaska</td>\n",
       "    </tr>\n",
       "    <tr>\n",
       "      <th>97</th>\n",
       "      <td>Landry</td>\n",
       "      <td>Jennifer</td>\n",
       "      <td>Wyoming</td>\n",
       "    </tr>\n",
       "    <tr>\n",
       "      <th>98</th>\n",
       "      <td>Phillips</td>\n",
       "      <td>Lori</td>\n",
       "      <td>Arkansas</td>\n",
       "    </tr>\n",
       "    <tr>\n",
       "      <th>99</th>\n",
       "      <td>Davis</td>\n",
       "      <td>Tiffany</td>\n",
       "      <td>Mississippi</td>\n",
       "    </tr>\n",
       "  </tbody>\n",
       "</table>\n",
       "<p>100 rows × 3 columns</p>\n",
       "</div>"
      ],
      "text/plain": [
       "        Name    Lastname             State\n",
       "0    Harding   Christine        Virginia  \n",
       "1      Davis    Kimberly        New York  \n",
       "2     Ingram      Rachel       Louisiana  \n",
       "3     Walker     Richard          Oregon  \n",
       "4     Barnes   Francisco        Virginia  \n",
       "..       ...         ...               ...\n",
       "95     Smith       Kevin    North Dakota  \n",
       "96     Moore        Mark          Alaska  \n",
       "97    Landry    Jennifer         Wyoming  \n",
       "98  Phillips        Lori        Arkansas  \n",
       "99     Davis     Tiffany     Mississippi  \n",
       "\n",
       "[100 rows x 3 columns]"
      ]
     },
     "execution_count": 69,
     "metadata": {},
     "output_type": "execute_result"
    }
   ],
   "source": [
    "dataframe"
   ]
  },
  {
   "cell_type": "code",
   "execution_count": null,
   "id": "9261c013",
   "metadata": {},
   "outputs": [],
   "source": []
  }
 ],
 "metadata": {
  "kernelspec": {
   "display_name": "Python 3 (ipykernel)",
   "language": "python",
   "name": "python3"
  },
  "language_info": {
   "codemirror_mode": {
    "name": "ipython",
    "version": 3
   },
   "file_extension": ".py",
   "mimetype": "text/x-python",
   "name": "python",
   "nbconvert_exporter": "python",
   "pygments_lexer": "ipython3",
   "version": "3.9.7"
  },
  "toc": {
   "base_numbering": 1,
   "nav_menu": {},
   "number_sections": false,
   "sideBar": true,
   "skip_h1_title": false,
   "title_cell": "Table of Contents",
   "title_sidebar": "Contents",
   "toc_cell": false,
   "toc_position": {
    "height": "calc(100% - 180px)",
    "left": "10px",
    "top": "150px",
    "width": "261.818px"
   },
   "toc_section_display": true,
   "toc_window_display": true
  }
 },
 "nbformat": 4,
 "nbformat_minor": 5
}
