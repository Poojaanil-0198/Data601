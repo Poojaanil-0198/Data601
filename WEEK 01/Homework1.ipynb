{
 "cells": [
  {
   "cell_type": "markdown",
   "id": "0460c4c2",
   "metadata": {},
   "source": [
    "Question-1\n",
    "\n",
    "Write a Python function to return a list of all the numbers from 1 to n which are divisible by 5. n will be given as an argument to your function.\n"
   ]
  },
  {
   "cell_type": "code",
   "execution_count": 10,
   "id": "c26ec3de",
   "metadata": {},
   "outputs": [
    {
     "data": {
      "text/plain": [
       "[5,\n",
       " 10,\n",
       " 15,\n",
       " 20,\n",
       " 25,\n",
       " 30,\n",
       " 35,\n",
       " 40,\n",
       " 45,\n",
       " 50,\n",
       " 55,\n",
       " 60,\n",
       " 65,\n",
       " 70,\n",
       " 75,\n",
       " 80,\n",
       " 85,\n",
       " 90,\n",
       " 95,\n",
       " 100,\n",
       " 105,\n",
       " 110,\n",
       " 115,\n",
       " 120]"
      ]
     },
     "execution_count": 10,
     "metadata": {},
     "output_type": "execute_result"
    }
   ],
   "source": [
    "def is_divisible_by_five(given_number):\n",
    "    List=[]\n",
    "    for i in range(1, given_number+1):\n",
    "            if(i%5==0):\n",
    "                List.append(i)\n",
    "    return List\n",
    "    \n",
    "\n",
    "is_divisible_by_five(121)"
   ]
  },
  {
   "cell_type": "markdown",
   "id": "0c1a9164",
   "metadata": {},
   "source": [
    "Question-2\n",
    "\n",
    "Write a function that returns the sum of the parameters"
   ]
  },
  {
   "cell_type": "code",
   "execution_count": 8,
   "id": "a3747534",
   "metadata": {},
   "outputs": [
    {
     "data": {
      "text/plain": [
       "8"
      ]
     },
     "execution_count": 8,
     "metadata": {},
     "output_type": "execute_result"
    }
   ],
   "source": [
    "def my_function(a, b):\n",
    "        return a+b\n",
    "\n",
    "my_function(3, 5)"
   ]
  },
  {
   "cell_type": "markdown",
   "id": "89af0c90",
   "metadata": {},
   "source": [
    "Question-3 (Shell & Magic Commands)\n",
    "\n",
    "Question-3-a\n",
    "\n",
    "Below print current working directory."
   ]
  },
  {
   "cell_type": "code",
   "execution_count": 14,
   "id": "30e919b4",
   "metadata": {},
   "outputs": [
    {
     "data": {
      "text/plain": [
       "'/Users/poojaanil'"
      ]
     },
     "execution_count": 14,
     "metadata": {},
     "output_type": "execute_result"
    }
   ],
   "source": [
    "%pwd\n"
   ]
  },
  {
   "cell_type": "markdown",
   "id": "8aff31a3",
   "metadata": {},
   "source": [
    "Question-3-b\n",
    "\n",
    "Below list all the files and folders in the current working directory."
   ]
  },
  {
   "cell_type": "code",
   "execution_count": 10,
   "id": "9b4747b9",
   "metadata": {},
   "outputs": [
    {
     "name": "stdout",
     "output_type": "stream",
     "text": [
      "2D Lists.ipynb            Homework1.ipynb           \u001b[34mPictures\u001b[m\u001b[m\r\n",
      "Alphabet Pattern.ipynb    Inverted Pattern.ipynb    \u001b[34mPublic\u001b[m\u001b[m\r\n",
      "\u001b[34mApplications\u001b[m\u001b[m              \u001b[34mLibrary\u001b[m\u001b[m                   String.ipynb\r\n",
      "\u001b[34mDesktop\u001b[m\u001b[m                   Lists.ipynb               Untitled.ipynb\r\n",
      "\u001b[34mDocuments\u001b[m\u001b[m                 \u001b[34mMovies\u001b[m\u001b[m                    \u001b[34mopt\u001b[m\u001b[m\r\n",
      "\u001b[34mDownloads\u001b[m\u001b[m                 \u001b[34mMusic\u001b[m\u001b[m                     python introduction.ipynb\r\n",
      "For Loop.ipynb            Pattern.ipynb\r\n"
     ]
    }
   ],
   "source": [
    "!ls\n"
   ]
  },
  {
   "cell_type": "markdown",
   "id": "4dd65779",
   "metadata": {},
   "source": [
    "Question-3-c\n",
    "\n",
    "Create 'my_script.py' that prints 'Your First Name-Your Last Name' in the same directory and run this scripy in the cell below."
   ]
  },
  {
   "cell_type": "code",
   "execution_count": 20,
   "id": "f348dea5",
   "metadata": {},
   "outputs": [],
   "source": [
    "!touch my_script.ipynb"
   ]
  },
  {
   "cell_type": "code",
   "execution_count": 21,
   "id": "a4ea94ad",
   "metadata": {},
   "outputs": [],
   "source": [
    "!echo \"print('Pooja-Anil')\" > my_script.ipynb"
   ]
  },
  {
   "cell_type": "code",
   "execution_count": 22,
   "id": "ec9abe1d",
   "metadata": {},
   "outputs": [
    {
     "name": "stdout",
     "output_type": "stream",
     "text": [
      "Pooja-Anil\r\n"
     ]
    }
   ],
   "source": [
    "!python my_script.ipynb"
   ]
  }
 ],
 "metadata": {
  "kernelspec": {
   "display_name": "Python 3 (ipykernel)",
   "language": "python",
   "name": "python3"
  },
  "language_info": {
   "codemirror_mode": {
    "name": "ipython",
    "version": 3
   },
   "file_extension": ".py",
   "mimetype": "text/x-python",
   "name": "python",
   "nbconvert_exporter": "python",
   "pygments_lexer": "ipython3",
   "version": "3.9.7"
  }
 },
 "nbformat": 4,
 "nbformat_minor": 5
}
